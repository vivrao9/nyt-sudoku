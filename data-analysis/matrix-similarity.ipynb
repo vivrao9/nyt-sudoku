{
 "cells": [
  {
   "cell_type": "code",
   "execution_count": 2,
   "id": "d0e89261",
   "metadata": {},
   "outputs": [],
   "source": [
    "from ast import literal_eval\n",
    "import pandas as pd\n",
    "import numpy as np"
   ]
  },
  {
   "cell_type": "code",
   "execution_count": 3,
   "id": "b63f498d",
   "metadata": {},
   "outputs": [],
   "source": [
    "ez = pd.read_csv(r'C:\\Users\\Vivek Rao\\Desktop\\Programming\\nyt-sudoku\\data-collection\\easy.csv')"
   ]
  },
  {
   "cell_type": "code",
   "execution_count": 111,
   "id": "25a2c998",
   "metadata": {},
   "outputs": [],
   "source": [
    "def return_eig(x):\n",
    "    x = np.array(literal_eval(x)) # .reshape((9,9))\n",
    "#     x[x != 0] = 1\n",
    "    return x # np.linalg.eig(x)[0][0]"
   ]
  },
  {
   "cell_type": "code",
   "execution_count": 112,
   "id": "7416b787",
   "metadata": {},
   "outputs": [
    {
     "data": {
      "text/plain": [
       "0      [1, 0, 6, 0, 4, 0, 9, 0, 0, 2, 0, 0, 0, 8, 0, ...\n",
       "1      [0, 5, 3, 8, 0, 1, 0, 7, 0, 0, 0, 6, 3, 0, 9, ...\n",
       "2      [2, 3, 1, 4, 5, 0, 0, 0, 0, 7, 0, 0, 0, 0, 0, ...\n",
       "3      [0, 6, 1, 2, 4, 0, 0, 3, 0, 0, 0, 3, 7, 0, 5, ...\n",
       "4      [3, 8, 6, 0, 4, 0, 0, 0, 5, 0, 0, 0, 6, 0, 0, ...\n",
       "                             ...                        \n",
       "186    [2, 9, 5, 6, 0, 0, 8, 0, 0, 0, 0, 7, 0, 0, 4, ...\n",
       "187    [1, 0, 6, 3, 9, 0, 0, 0, 2, 0, 8, 7, 0, 1, 0, ...\n",
       "188    [0, 0, 0, 7, 0, 1, 8, 0, 4, 1, 3, 7, 8, 0, 0, ...\n",
       "189    [6, 2, 3, 7, 0, 0, 0, 0, 0, 0, 0, 8, 1, 0, 5, ...\n",
       "190    [7, 5, 2, 0, 4, 8, 0, 0, 0, 6, 0, 0, 0, 0, 7, ...\n",
       "Name: puzzle, Length: 191, dtype: object"
      ]
     },
     "execution_count": 112,
     "metadata": {},
     "output_type": "execute_result"
    }
   ],
   "source": [
    "ez.puzzle.apply(return_eig)"
   ]
  },
  {
   "cell_type": "markdown",
   "id": "9ded2c67",
   "metadata": {},
   "source": [
    "## T-SNE"
   ]
  },
  {
   "cell_type": "code",
   "execution_count": 25,
   "id": "560b1161",
   "metadata": {},
   "outputs": [],
   "source": [
    "from sklearn.manifold import TSNE\n",
    "import matplotlib.pyplot as plt"
   ]
  },
  {
   "cell_type": "code",
   "execution_count": 114,
   "id": "2580ee18",
   "metadata": {},
   "outputs": [],
   "source": [
    "tsne = TSNE(n_components=2,\n",
    "           perplexity=200,\n",
    "           n_iter=2000,\n",
    "           metric='cosine')"
   ]
  },
  {
   "cell_type": "code",
   "execution_count": 115,
   "id": "a68af917",
   "metadata": {},
   "outputs": [
    {
     "name": "stderr",
     "output_type": "stream",
     "text": [
      "C:\\Users\\Vivek Rao\\Anaconda3\\lib\\site-packages\\sklearn\\manifold\\_t_sne.py:783: FutureWarning: The default initialization in TSNE will change from 'random' to 'pca' in 1.2.\n",
      "  FutureWarning,\n",
      "C:\\Users\\Vivek Rao\\Anaconda3\\lib\\site-packages\\sklearn\\manifold\\_t_sne.py:793: FutureWarning: The default learning rate in TSNE will change from 200.0 to 'auto' in 1.2.\n",
      "  FutureWarning,\n",
      "C:\\Users\\Vivek Rao\\Anaconda3\\lib\\site-packages\\sklearn\\manifold\\_t_sne.py:827: FutureWarning: 'square_distances' has been introduced in 0.24 to help phase out legacy squaring behavior. The 'legacy' setting will be removed in 1.1 (renaming of 0.26), and the default setting will be changed to True. In 1.3, 'square_distances' will be removed altogether, and distances will be squared by default. Set 'square_distances'=True to silence this warning.\n",
      "  FutureWarning,\n"
     ]
    }
   ],
   "source": [
    "X_embedded = tsne.fit_transform(ez.puzzle.apply(return_eig).to_list())"
   ]
  },
  {
   "cell_type": "code",
   "execution_count": 118,
   "id": "2795b99c",
   "metadata": {},
   "outputs": [
    {
     "data": {
      "text/plain": [
       "(-0.5221675634384155, -0.504679799079895)"
      ]
     },
     "execution_count": 118,
     "metadata": {},
     "output_type": "execute_result"
    },
    {
     "data": {
      "image/png": "[encoded data removed]",
      "text/plain": [
       "<Figure size 432x288 with 1 Axes>"
      ]
     },
     "metadata": {
      "needs_background": "light"
     },
     "output_type": "display_data"
    }
   ],
   "source": [
    "plt.scatter(X_embedded[:,0], X_embedded[:,1])\n",
    "plt.xlim( (X_embedded.min(axis=0)[0],X_embedded.max(axis=0)[0]) )\n",
    "plt.ylim( (X_embedded.min(axis=0)[1], X_embedded.max(axis=0)[1]) )"
   ]
  },
  {
   "cell_type": "markdown",
   "id": "647f3132",
   "metadata": {},
   "source": [
    "# UMAP"
   ]
  },
  {
   "cell_type": "code",
   "execution_count": 26,
   "id": "b95d563f",
   "metadata": {},
   "outputs": [],
   "source": [
    "import umap\n",
    "from sklearn.preprocessing import StandardScaler"
   ]
  },
  {
   "cell_type": "code",
   "execution_count": 60,
   "id": "0e199b45",
   "metadata": {},
   "outputs": [],
   "source": [
    "ez = pd.read_csv(r'C:\\Users\\Vivek Rao\\Desktop\\Programming\\nyt-sudoku\\data-collection\\easy.csv')"
   ]
  },
  {
   "cell_type": "code",
   "execution_count": 61,
   "id": "134c4c9b",
   "metadata": {},
   "outputs": [],
   "source": [
    "ez = ez[['puzzle_id', 'puzzle']]"
   ]
  },
  {
   "cell_type": "code",
   "execution_count": 63,
   "id": "da1d79fa",
   "metadata": {},
   "outputs": [],
   "source": [
    "# https://stackoverflow.com/questions/39618678/pandas-convert-columns-type-from-list-to-np-array\n",
    "ez.puzzle = ez.puzzle.apply(eval).apply(lambda x: np.array(x))"
   ]
  },
  {
   "cell_type": "code",
   "execution_count": 96,
   "id": "113d6a2b",
   "metadata": {},
   "outputs": [],
   "source": [
    "# following steps on https://umap-learn.readthedocs.io/en/latest/basic_usage.html\n",
    "reducer = umap.UMAP(n_neighbors=15,\n",
    "                    min_dist=0,\n",
    "                    n_components=2,\n",
    "                    random_state=32)"
   ]
  },
  {
   "cell_type": "code",
   "execution_count": 97,
   "id": "0cd3622f",
   "metadata": {},
   "outputs": [
    {
     "data": {
      "text/plain": [
       "(191, 2)"
      ]
     },
     "execution_count": 97,
     "metadata": {},
     "output_type": "execute_result"
    }
   ],
   "source": [
    "embedding = reducer.fit_transform(ez.puzzle.to_list())\n",
    "embedding.shape"
   ]
  },
  {
   "cell_type": "code",
   "execution_count": 98,
   "id": "6b772f6f",
   "metadata": {},
   "outputs": [
    {
     "data": {
      "text/plain": [
       "<matplotlib.collections.PathCollection at 0x1d26b857108>"
      ]
     },
     "execution_count": 98,
     "metadata": {},
     "output_type": "execute_result"
    },
    {
     "data": {
      "image/png": "[encoded data removed]",
      "text/plain": [
       "<Figure size 432x288 with 1 Axes>"
      ]
     },
     "metadata": {
      "needs_background": "light"
     },
     "output_type": "display_data"
    }
   ],
   "source": [
    "plt.scatter(embedding[:,0], embedding[:,1])"
   ]
  }
 ],
 "metadata": {
  "kernelspec": {
   "display_name": "Python 3 (ipykernel)",
   "language": "python",
   "name": "python3"
  },
  "language_info": {
   "codemirror_mode": {
    "name": "ipython",
    "version": 3
   },
   "file_extension": ".py",
   "mimetype": "text/x-python",
   "name": "python",
   "nbconvert_exporter": "python",
   "pygments_lexer": "ipython3",
   "version": "3.7.4"
  }
 },
 "nbformat": 4,
 "nbformat_minor": 5
}
