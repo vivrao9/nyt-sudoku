{
 "cells": [
  {
   "cell_type": "code",
   "execution_count": 42,
   "id": "d0e89261",
   "metadata": {},
   "outputs": [],
   "source": [
    "from ast import literal_eval\n",
    "import pandas as pd\n",
    "import numpy as np"
   ]
  },
  {
   "cell_type": "code",
   "execution_count": 3,
   "id": "b63f498d",
   "metadata": {},
   "outputs": [],
   "source": [
    "ez = pd.read_csv(r'C:\\Users\\Vivek Rao\\Desktop\\Programming\\nyt-sudoku\\data-collection\\easy.csv')"
   ]
  },
  {
   "cell_type": "code",
   "execution_count": 111,
   "id": "25a2c998",
   "metadata": {},
   "outputs": [],
   "source": [
    "def return_eig(x):\n",
    "    x = np.array(literal_eval(x)) # .reshape((9,9))\n",
    "#     x[x != 0] = 1\n",
    "    return x # np.linalg.eig(x)[0][0]"
   ]
  },
  {
   "cell_type": "code",
   "execution_count": 112,
   "id": "7416b787",
   "metadata": {},
   "outputs": [
    {
     "data": {
      "text/plain": [
       "0      [1, 0, 6, 0, 4, 0, 9, 0, 0, 2, 0, 0, 0, 8, 0, ...\n",
       "1      [0, 5, 3, 8, 0, 1, 0, 7, 0, 0, 0, 6, 3, 0, 9, ...\n",
       "2      [2, 3, 1, 4, 5, 0, 0, 0, 0, 7, 0, 0, 0, 0, 0, ...\n",
       "3      [0, 6, 1, 2, 4, 0, 0, 3, 0, 0, 0, 3, 7, 0, 5, ...\n",
       "4      [3, 8, 6, 0, 4, 0, 0, 0, 5, 0, 0, 0, 6, 0, 0, ...\n",
       "                             ...                        \n",
       "186    [2, 9, 5, 6, 0, 0, 8, 0, 0, 0, 0, 7, 0, 0, 4, ...\n",
       "187    [1, 0, 6, 3, 9, 0, 0, 0, 2, 0, 8, 7, 0, 1, 0, ...\n",
       "188    [0, 0, 0, 7, 0, 1, 8, 0, 4, 1, 3, 7, 8, 0, 0, ...\n",
       "189    [6, 2, 3, 7, 0, 0, 0, 0, 0, 0, 0, 8, 1, 0, 5, ...\n",
       "190    [7, 5, 2, 0, 4, 8, 0, 0, 0, 6, 0, 0, 0, 0, 7, ...\n",
       "Name: puzzle, Length: 191, dtype: object"
      ]
     },
     "execution_count": 112,
     "metadata": {},
     "output_type": "execute_result"
    }
   ],
   "source": [
    "ez.puzzle.apply(return_eig)"
   ]
  },
  {
   "cell_type": "markdown",
   "id": "9ded2c67",
   "metadata": {},
   "source": [
    "## T-SNE"
   ]
  },
  {
   "cell_type": "code",
   "execution_count": 113,
   "id": "560b1161",
   "metadata": {},
   "outputs": [],
   "source": [
    "from sklearn.manifold import TSNE\n",
    "import matplotlib.pyplot as plt"
   ]
  },
  {
   "cell_type": "code",
   "execution_count": 114,
   "id": "2580ee18",
   "metadata": {},
   "outputs": [],
   "source": [
    "tsne = TSNE(n_components=2,\n",
    "           perplexity=200,\n",
    "           n_iter=2000,\n",
    "           metric='cosine')"
   ]
  },
  {
   "cell_type": "code",
   "execution_count": 115,
   "id": "a68af917",
   "metadata": {},
   "outputs": [
    {
     "name": "stderr",
     "output_type": "stream",
     "text": [
      "C:\\Users\\Vivek Rao\\Anaconda3\\lib\\site-packages\\sklearn\\manifold\\_t_sne.py:783: FutureWarning: The default initialization in TSNE will change from 'random' to 'pca' in 1.2.\n",
      "  FutureWarning,\n",
      "C:\\Users\\Vivek Rao\\Anaconda3\\lib\\site-packages\\sklearn\\manifold\\_t_sne.py:793: FutureWarning: The default learning rate in TSNE will change from 200.0 to 'auto' in 1.2.\n",
      "  FutureWarning,\n",
      "C:\\Users\\Vivek Rao\\Anaconda3\\lib\\site-packages\\sklearn\\manifold\\_t_sne.py:827: FutureWarning: 'square_distances' has been introduced in 0.24 to help phase out legacy squaring behavior. The 'legacy' setting will be removed in 1.1 (renaming of 0.26), and the default setting will be changed to True. In 1.3, 'square_distances' will be removed altogether, and distances will be squared by default. Set 'square_distances'=True to silence this warning.\n",
      "  FutureWarning,\n"
     ]
    }
   ],
   "source": [
    "X_embedded = tsne.fit_transform(ez.puzzle.apply(return_eig).to_list())"
   ]
  },
  {
   "cell_type": "code",
   "execution_count": 116,
   "id": "70d40d8b",
   "metadata": {},
   "outputs": [
    {
     "data": {
      "text/plain": [
       "array([[-0.11989707, -0.5194408 ],\n",
       "       [-0.11959407, -0.5075489 ],\n",
       "       [-0.12194197, -0.5185434 ],\n",
       "       [-0.12436594, -0.51539046],\n",
       "       [-0.12332635, -0.5181936 ],\n",
       "       [-0.12518829, -0.5107357 ],\n",
       "       [-0.11501893, -0.5108844 ],\n",
       "       [-0.12224153, -0.50782484],\n",
       "       [-0.11780997, -0.50815356],\n",
       "       [-0.11247774, -0.5159356 ],\n",
       "       [-0.11908723, -0.50609326],\n",
       "       [-0.1195695 , -0.50650835],\n",
       "       [-0.12668075, -0.5137749 ],\n",
       "       [-0.11476047, -0.50922185],\n",
       "       [-0.1187309 , -0.5203462 ],\n",
       "       [-0.1252644 , -0.51208687],\n",
       "       [-0.1211175 , -0.51847494],\n",
       "       [-0.12142389, -0.507015  ],\n",
       "       [-0.11365509, -0.5152128 ],\n",
       "       [-0.11765216, -0.5070995 ],\n",
       "       [-0.12410755, -0.5190696 ],\n",
       "       [-0.11902104, -0.52216756],\n",
       "       [-0.11892326, -0.5061974 ],\n",
       "       [-0.11945833, -0.5066815 ],\n",
       "       [-0.11934853, -0.52181363],\n",
       "       [-0.12506025, -0.5158926 ],\n",
       "       [-0.11725203, -0.50867856],\n",
       "       [-0.12018199, -0.51900905],\n",
       "       [-0.12467143, -0.51049274],\n",
       "       [-0.12420033, -0.5165554 ],\n",
       "       [-0.11366572, -0.5133387 ],\n",
       "       [-0.12260371, -0.5147069 ],\n",
       "       [-0.11570875, -0.51081866],\n",
       "       [-0.11384214, -0.51354474],\n",
       "       [-0.1265318 , -0.5158961 ],\n",
       "       [-0.12425097, -0.5169203 ],\n",
       "       [-0.11551851, -0.50841963],\n",
       "       [-0.12627488, -0.51149315],\n",
       "       [-0.11350923, -0.51525074],\n",
       "       [-0.11455265, -0.51052964],\n",
       "       [-0.12015121, -0.5066539 ],\n",
       "       [-0.12003651, -0.50575083],\n",
       "       [-0.11622363, -0.5162263 ],\n",
       "       [-0.11986254, -0.50652254],\n",
       "       [-0.1203059 , -0.50633496],\n",
       "       [-0.12362437, -0.5187889 ],\n",
       "       [-0.11825125, -0.51844215],\n",
       "       [-0.11779732, -0.51934737],\n",
       "       [-0.12277032, -0.5180465 ],\n",
       "       [-0.11466873, -0.50987244],\n",
       "       [-0.12214142, -0.50789785],\n",
       "       [-0.12418135, -0.51710594],\n",
       "       [-0.11397673, -0.5126796 ],\n",
       "       [-0.11652616, -0.5075581 ],\n",
       "       [-0.12021916, -0.50700855],\n",
       "       [-0.11866989, -0.52038676],\n",
       "       [-0.12313267, -0.5189294 ],\n",
       "       [-0.11968716, -0.5200886 ],\n",
       "       [-0.12501374, -0.51755553],\n",
       "       [-0.12393455, -0.5160158 ],\n",
       "       [-0.11675298, -0.50770986],\n",
       "       [-0.11356164, -0.5152028 ],\n",
       "       [-0.11790809, -0.5197576 ],\n",
       "       [-0.11353052, -0.51373804],\n",
       "       [-0.11673331, -0.51788193],\n",
       "       [-0.11507721, -0.50955564],\n",
       "       [-0.11816993, -0.5196663 ],\n",
       "       [-0.11978117, -0.5209256 ],\n",
       "       [-0.11551569, -0.51671296],\n",
       "       [-0.11567245, -0.508812  ],\n",
       "       [-0.12047406, -0.50628036],\n",
       "       [-0.1226683 , -0.5167807 ],\n",
       "       [-0.12304144, -0.50981015],\n",
       "       [-0.12550813, -0.51581204],\n",
       "       [-0.11360972, -0.51496   ],\n",
       "       [-0.12058722, -0.5055283 ],\n",
       "       [-0.11205953, -0.51312804],\n",
       "       [-0.11502047, -0.51043206],\n",
       "       [-0.12025755, -0.50739425],\n",
       "       [-0.126725  , -0.5121642 ],\n",
       "       [-0.11523237, -0.5186114 ],\n",
       "       [-0.12191027, -0.5070764 ],\n",
       "       [-0.11110064, -0.514519  ],\n",
       "       [-0.1206396 , -0.51858824],\n",
       "       [-0.1257879 , -0.5152062 ],\n",
       "       [-0.11424433, -0.51030284],\n",
       "       [-0.12567894, -0.51770025],\n",
       "       [-0.1242969 , -0.5094181 ],\n",
       "       [-0.12394683, -0.5167049 ],\n",
       "       [-0.12126281, -0.51901525],\n",
       "       [-0.11404924, -0.5110794 ],\n",
       "       [-0.12679681, -0.5125492 ],\n",
       "       [-0.12655576, -0.5105807 ],\n",
       "       [-0.12059224, -0.51951987],\n",
       "       [-0.11894156, -0.5065996 ],\n",
       "       [-0.1220784 , -0.50872153],\n",
       "       [-0.12566276, -0.5114018 ],\n",
       "       [-0.11826736, -0.5067879 ],\n",
       "       [-0.11151174, -0.51379144],\n",
       "       [-0.12526792, -0.5097913 ],\n",
       "       [-0.12402212, -0.5091988 ],\n",
       "       [-0.11884765, -0.5187385 ],\n",
       "       [-0.11399046, -0.5128405 ],\n",
       "       [-0.12536274, -0.50991744],\n",
       "       [-0.11413994, -0.51457494],\n",
       "       [-0.12112317, -0.5191661 ],\n",
       "       [-0.12114525, -0.5185525 ],\n",
       "       [-0.11482022, -0.5095686 ],\n",
       "       [-0.12450955, -0.5165113 ],\n",
       "       [-0.12686473, -0.5198119 ],\n",
       "       [-0.11328863, -0.51256686],\n",
       "       [-0.12418082, -0.5089789 ],\n",
       "       [-0.11369877, -0.5142048 ],\n",
       "       [-0.1253502 , -0.5150595 ],\n",
       "       [-0.12530772, -0.51056397],\n",
       "       [-0.11411668, -0.51381654],\n",
       "       [-0.11976273, -0.521126  ],\n",
       "       [-0.11563566, -0.50775754],\n",
       "       [-0.1149835 , -0.5167687 ],\n",
       "       [-0.11820482, -0.50738716],\n",
       "       [-0.12047245, -0.5191735 ],\n",
       "       [-0.12420452, -0.5164401 ],\n",
       "       [-0.12118283, -0.5076426 ],\n",
       "       [-0.12299209, -0.5181183 ],\n",
       "       [-0.11487368, -0.5108917 ],\n",
       "       [-0.12396853, -0.51563996],\n",
       "       [-0.11330637, -0.51197565],\n",
       "       [-0.11435839, -0.5097744 ],\n",
       "       [-0.12459444, -0.51434505],\n",
       "       [-0.11920157, -0.5188794 ],\n",
       "       [-0.1125538 , -0.5127755 ],\n",
       "       [-0.12700477, -0.5127187 ],\n",
       "       [-0.11745048, -0.5186344 ],\n",
       "       [-0.11885247, -0.5187571 ],\n",
       "       [-0.11849556, -0.50714046],\n",
       "       [-0.12685828, -0.512758  ],\n",
       "       [-0.11398136, -0.5123816 ],\n",
       "       [-0.11305091, -0.51339287],\n",
       "       [-0.12631507, -0.5141325 ],\n",
       "       [-0.11954812, -0.5187015 ],\n",
       "       [-0.11735599, -0.50731635],\n",
       "       [-0.11869172, -0.51802564],\n",
       "       [-0.113994  , -0.5137739 ],\n",
       "       [-0.12342782, -0.50806713],\n",
       "       [-0.12605812, -0.5125051 ],\n",
       "       [-0.12496286, -0.51133025],\n",
       "       [-0.11638272, -0.51994544],\n",
       "       [-0.12654242, -0.51364684],\n",
       "       [-0.12727395, -0.5126054 ],\n",
       "       [-0.1254995 , -0.51012915],\n",
       "       [-0.12386307, -0.51832473],\n",
       "       [-0.11869124, -0.5188816 ],\n",
       "       [-0.11843542, -0.518784  ],\n",
       "       [-0.12788996, -0.5099508 ],\n",
       "       [-0.11389121, -0.51489615],\n",
       "       [-0.12312658, -0.50766474],\n",
       "       [-0.12492952, -0.5095623 ],\n",
       "       [-0.11948451, -0.51794076],\n",
       "       [-0.12500907, -0.5149933 ],\n",
       "       [-0.11821415, -0.50802284],\n",
       "       [-0.12358913, -0.50927335],\n",
       "       [-0.12609725, -0.513402  ],\n",
       "       [-0.12103451, -0.5061349 ],\n",
       "       [-0.11538711, -0.51708597],\n",
       "       [-0.1116173 , -0.51458514],\n",
       "       [-0.1210823 , -0.5046798 ],\n",
       "       [-0.11624921, -0.51711595],\n",
       "       [-0.12400109, -0.50954056],\n",
       "       [-0.12487377, -0.51589966],\n",
       "       [-0.11517527, -0.5163814 ],\n",
       "       [-0.11372812, -0.5101644 ],\n",
       "       [-0.11740745, -0.5188    ],\n",
       "       [-0.12603794, -0.5125425 ],\n",
       "       [-0.12112466, -0.50744116],\n",
       "       [-0.11461335, -0.51197636],\n",
       "       [-0.11914679, -0.5216567 ],\n",
       "       [-0.11363846, -0.5125584 ],\n",
       "       [-0.11581102, -0.51392835],\n",
       "       [-0.1148289 , -0.5088855 ],\n",
       "       [-0.12080266, -0.5073666 ],\n",
       "       [-0.11294971, -0.51094246],\n",
       "       [-0.11917509, -0.5208621 ],\n",
       "       [-0.12270536, -0.50757873],\n",
       "       [-0.11177821, -0.51492846],\n",
       "       [-0.12445011, -0.5171201 ],\n",
       "       [-0.11200876, -0.5125144 ],\n",
       "       [-0.12492857, -0.51467806],\n",
       "       [-0.12182212, -0.5076335 ],\n",
       "       [-0.11438303, -0.5118349 ],\n",
       "       [-0.11331126, -0.5142761 ],\n",
       "       [-0.12522493, -0.5144249 ]], dtype=float32)"
      ]
     },
     "execution_count": 116,
     "metadata": {},
     "output_type": "execute_result"
    }
   ],
   "source": [
    "X_embedded"
   ]
  },
  {
   "cell_type": "code",
   "execution_count": 117,
   "id": "39b43219",
   "metadata": {},
   "outputs": [
    {
     "data": {
      "text/plain": [
       "array([-0.12788996, -0.52216756], dtype=float32)"
      ]
     },
     "execution_count": 117,
     "metadata": {},
     "output_type": "execute_result"
    }
   ],
   "source": [
    "X_embedded.min(axis=0)"
   ]
  },
  {
   "cell_type": "code",
   "execution_count": 118,
   "id": "2795b99c",
   "metadata": {},
   "outputs": [
    {
     "data": {
      "text/plain": [
       "(-0.5221675634384155, -0.504679799079895)"
      ]
     },
     "execution_count": 118,
     "metadata": {},
     "output_type": "execute_result"
    },
    {
     "data": {
      "image/png": "[encoded data removed]",
      "text/plain": [
       "<Figure size 432x288 with 1 Axes>"
      ]
     },
     "metadata": {
      "needs_background": "light"
     },
     "output_type": "display_data"
    }
   ],
   "source": [
    "plt.scatter(X_embedded[:,0], X_embedded[:,1])\n",
    "plt.xlim( (X_embedded.min(axis=0)[0],X_embedded.max(axis=0)[0]) )\n",
    "plt.ylim( (X_embedded.min(axis=0)[1], X_embedded.max(axis=0)[1]) )"
   ]
  }
 ],
 "metadata": {
  "kernelspec": {
   "display_name": "Python 3 (ipykernel)",
   "language": "python",
   "name": "python3"
  },
  "language_info": {
   "codemirror_mode": {
    "name": "ipython",
    "version": 3
   },
   "file_extension": ".py",
   "mimetype": "text/x-python",
   "name": "python",
   "nbconvert_exporter": "python",
   "pygments_lexer": "ipython3",
   "version": "3.7.4"
  }
 },
 "nbformat": 4,
 "nbformat_minor": 5
}
