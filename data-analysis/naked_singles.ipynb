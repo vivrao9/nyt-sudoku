{
 "cells": [
  {
   "cell_type": "code",
   "execution_count": 1,
   "id": "42d554c5",
   "metadata": {},
   "outputs": [],
   "source": [
    "# import custom functions\n",
    "from get_candidates import get_candidates\n",
    "from get_row_col import get_row_col\n",
    "from convert_to_binary import convert_to_binary\n",
    "from naked_for_how_long import naked_for_how_long\n",
    "\n",
    "# other functions we need\n",
    "from ast import literal_eval\n",
    "\n",
    "import pandas as pd\n",
    "import numpy as np"
   ]
  },
  {
   "cell_type": "code",
   "execution_count": 2,
   "id": "ede32721",
   "metadata": {},
   "outputs": [],
   "source": [
    "# import SQL dependencies\n",
    "import sqlite3\n",
    "\n",
    "# connect to .db\n",
    "con = sqlite3.connect(\"../data-collection/nyt-sudoku.db\")\n",
    "cur = con.cursor()\n",
    "\n",
    "doks_perf = pd.read_sql(\"SELECT * from doks_performance;\",\n",
    "           con)\n",
    "\n",
    "doks_easy = pd.read_sql(\"SELECT * from doks_easy;\",\n",
    "           con)"
   ]
  },
  {
   "cell_type": "code",
   "execution_count": 3,
   "id": "04790dae",
   "metadata": {},
   "outputs": [],
   "source": [
    "# format doks_performance date to match doks_easy format\n",
    "doks_perf['date'] = pd.to_datetime(doks_perf['date'])\n",
    "\n",
    "# format date column in doks_easy\n",
    "doks_easy['date'] = pd.to_datetime(doks_easy['date'])\n",
    "\n",
    "# convert all string of lists to lists\n",
    "doks_perf['doks_order'] = doks_perf['doks_order'].apply(literal_eval)\n",
    "doks_perf['times'] = doks_perf['times'].apply(literal_eval)\n",
    "\n",
    "doks_easy['puzzle'] = doks_easy['puzzle'].apply(literal_eval)\n",
    "doks_easy['solution'] = doks_easy['solution'].apply(literal_eval)"
   ]
  },
  {
   "cell_type": "code",
   "execution_count": 4,
   "id": "938128bf",
   "metadata": {},
   "outputs": [],
   "source": [
    "merged = pd.merge(left=doks_perf,\n",
    "        right=doks_easy,\n",
    "        on='date',\n",
    "        how='left')"
   ]
  },
  {
   "cell_type": "code",
   "execution_count": 5,
   "id": "f318d776",
   "metadata": {},
   "outputs": [],
   "source": [
    "# drop those days for which we don't have original nyt data\n",
    "merged = merged.dropna()"
   ]
  },
  {
   "cell_type": "code",
   "execution_count": 6,
   "id": "04199174",
   "metadata": {},
   "outputs": [],
   "source": [
    "# only keep the columns we need\n",
    "merged = merged[['date', 'puzzle', 'solution', 'doks_order', 'times']]"
   ]
  },
  {
   "cell_type": "code",
   "execution_count": 7,
   "id": "9e24dee4",
   "metadata": {},
   "outputs": [],
   "source": [
    "naked_num_steps = pd.DataFrame(columns=[i for i in range(81)])"
   ]
  },
  {
   "cell_type": "code",
   "execution_count": 8,
   "id": "870ae02c",
   "metadata": {},
   "outputs": [
    {
     "data": {
      "text/html": [
       "<div>\n",
       "<style scoped>\n",
       "    .dataframe tbody tr th:only-of-type {\n",
       "        vertical-align: middle;\n",
       "    }\n",
       "\n",
       "    .dataframe tbody tr th {\n",
       "        vertical-align: top;\n",
       "    }\n",
       "\n",
       "    .dataframe thead th {\n",
       "        text-align: right;\n",
       "    }\n",
       "</style>\n",
       "<table border=\"1\" class=\"dataframe\">\n",
       "  <thead>\n",
       "    <tr style=\"text-align: right;\">\n",
       "      <th></th>\n",
       "      <th>0</th>\n",
       "      <th>1</th>\n",
       "      <th>2</th>\n",
       "      <th>3</th>\n",
       "      <th>4</th>\n",
       "      <th>5</th>\n",
       "      <th>6</th>\n",
       "      <th>7</th>\n",
       "      <th>8</th>\n",
       "      <th>9</th>\n",
       "      <th>...</th>\n",
       "      <th>71</th>\n",
       "      <th>72</th>\n",
       "      <th>73</th>\n",
       "      <th>74</th>\n",
       "      <th>75</th>\n",
       "      <th>76</th>\n",
       "      <th>77</th>\n",
       "      <th>78</th>\n",
       "      <th>79</th>\n",
       "      <th>80</th>\n",
       "    </tr>\n",
       "  </thead>\n",
       "  <tbody>\n",
       "  </tbody>\n",
       "</table>\n",
       "<p>0 rows × 81 columns</p>\n",
       "</div>"
      ],
      "text/plain": [
       "Empty DataFrame\n",
       "Columns: [0, 1, 2, 3, 4, 5, 6, 7, 8, 9, 10, 11, 12, 13, 14, 15, 16, 17, 18, 19, 20, 21, 22, 23, 24, 25, 26, 27, 28, 29, 30, 31, 32, 33, 34, 35, 36, 37, 38, 39, 40, 41, 42, 43, 44, 45, 46, 47, 48, 49, 50, 51, 52, 53, 54, 55, 56, 57, 58, 59, 60, 61, 62, 63, 64, 65, 66, 67, 68, 69, 70, 71, 72, 73, 74, 75, 76, 77, 78, 79, 80]\n",
       "Index: []\n",
       "\n",
       "[0 rows x 81 columns]"
      ]
     },
     "execution_count": 8,
     "metadata": {},
     "output_type": "execute_result"
    }
   ],
   "source": [
    "naked_num_steps"
   ]
  },
  {
   "cell_type": "code",
   "execution_count": 9,
   "id": "d756ea42",
   "metadata": {},
   "outputs": [
    {
     "name": "stdout",
     "output_type": "stream",
     "text": [
      "43\n",
      "43\n",
      "45\n",
      "45\n",
      "43\n",
      "45\n",
      "43\n",
      "43\n",
      "43\n",
      "45\n",
      "43\n",
      "43\n",
      "43\n",
      "45\n",
      "45\n",
      "43\n",
      "43\n",
      "43\n",
      "45\n",
      "43\n",
      "49\n",
      "43\n",
      "43\n",
      "43\n",
      "46\n",
      "43\n",
      "43\n",
      "43\n",
      "45\n",
      "45\n",
      "43\n",
      "43\n",
      "43\n",
      "43\n",
      "43\n",
      "44\n",
      "44\n",
      "43\n",
      "45\n",
      "45\n",
      "45\n",
      "44\n",
      "48\n",
      "49\n",
      "47\n",
      "44\n",
      "45\n",
      "45\n",
      "48\n",
      "43\n",
      "43\n",
      "43\n",
      "48\n",
      "47\n",
      "43\n",
      "44\n",
      "43\n",
      "44\n",
      "44\n",
      "44\n",
      "50\n",
      "52\n",
      "44\n",
      "44\n",
      "44\n",
      "48\n",
      "45\n",
      "43\n",
      "47\n",
      "43\n"
     ]
    }
   ],
   "source": [
    "for record in range(len(merged)):\n",
    "    temp_df = pd.DataFrame(naked_for_how_long(merged.iloc[record,3],\n",
    "                  merged.iloc[record,1],\n",
    "                  merged.iloc[record,2]),\n",
    "                    index=[0])\n",
    "    \n",
    "    naked_num_steps = naked_num_steps.append(temp_df)"
   ]
  },
  {
   "cell_type": "code",
   "execution_count": 12,
   "id": "44e54f55",
   "metadata": {},
   "outputs": [],
   "source": [
    "naked_num_steps.to_csv('naked_num_steps.csv', index=False)"
   ]
  },
  {
   "cell_type": "code",
   "execution_count": 15,
   "id": "aed549cc",
   "metadata": {},
   "outputs": [],
   "source": [
    "naked_num_steps = naked_num_steps.replace(0, np.nan)"
   ]
  },
  {
   "cell_type": "code",
   "execution_count": 20,
   "id": "37a3cc90",
   "metadata": {},
   "outputs": [],
   "source": [
    "avg_steps_naked = np.array(np.round(naked_num_steps.sum(axis=0) / naked_num_steps.notna().sum(axis=0), 2)).reshape(9,9)"
   ]
  },
  {
   "cell_type": "code",
   "execution_count": 21,
   "id": "2fcb079a",
   "metadata": {},
   "outputs": [],
   "source": [
    "avg_num_steps_naked = np.array(np.round(naked_num_steps.sum(axis=0) / naked_num_steps.notna().sum(axis=0), 2)).mean()"
   ]
  },
  {
   "cell_type": "code",
   "execution_count": 23,
   "id": "c8c5e97c",
   "metadata": {},
   "outputs": [
    {
     "data": {
      "text/plain": [
       "array([[-2.1 , -1.53,  1.31,  1.12, -2.05, -4.  , -2.5 , -2.04, -2.33],\n",
       "       [-2.53,  1.05, -2.69, -2.61,  1.41,  1.77, -2.02, -2.13, -1.46],\n",
       "       [-1.92, -0.48, -1.42, -1.56, -0.41,  1.55, -1.53,  5.06,  0.39],\n",
       "       [-1.8 ,  1.21,  0.9 ,  3.17, -1.93,  0.27,  1.08,  3.41,  0.37],\n",
       "       [-0.58,  1.12,  0.64, -2.18, -0.69, -0.02,  0.31,  2.29, -3.38],\n",
       "       [ 0.48,  1.47, -3.36,  3.01, -0.27,  3.16,  0.92, -2.53, -1.88],\n",
       "       [ 2.71,  1.8 ,  4.  , -0.95,  3.86,  1.77, -2.28, -2.13, -0.68],\n",
       "       [-2.2 , -1.53,  6.06, -2.14,  3.3 , -5.77, -0.45,  1.42,  3.6 ],\n",
       "       [-2.29,  2.67, -1.62,  0.96,  6.16,  3.12,  3.21, -1.8 , -2.26]])"
      ]
     },
     "execution_count": 23,
     "metadata": {},
     "output_type": "execute_result"
    }
   ],
   "source": [
    "np.round(avg_steps_naked - avg_num_steps_naked, 2)"
   ]
  }
 ],
 "metadata": {
  "kernelspec": {
   "display_name": "Python 3 (ipykernel)",
   "language": "python",
   "name": "python3"
  },
  "language_info": {
   "codemirror_mode": {
    "name": "ipython",
    "version": 3
   },
   "file_extension": ".py",
   "mimetype": "text/x-python",
   "name": "python",
   "nbconvert_exporter": "python",
   "pygments_lexer": "ipython3",
   "version": "3.7.4"
  }
 },
 "nbformat": 4,
 "nbformat_minor": 5
}
