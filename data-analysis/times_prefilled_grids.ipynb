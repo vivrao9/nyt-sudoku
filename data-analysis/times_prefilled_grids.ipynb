{
 "cells": [
  {
   "cell_type": "code",
   "execution_count": 1,
   "id": "effbf9d3",
   "metadata": {},
   "outputs": [],
   "source": [
    "# import custom functions\n",
    "from get_candidates import get_candidates\n",
    "from get_row_col import get_row_col\n",
    "from convert_to_binary import convert_to_binary\n",
    "from naked_for_how_long import naked_for_how_long\n",
    "\n",
    "# other functions we need\n",
    "from ast import literal_eval\n",
    "\n",
    "import pandas as pd\n",
    "import numpy as np"
   ]
  },
  {
   "cell_type": "code",
   "execution_count": 2,
   "id": "f2e9152b",
   "metadata": {},
   "outputs": [],
   "source": [
    "# import SQL dependencies\n",
    "import sqlite3\n",
    "\n",
    "# connect to .db\n",
    "con = sqlite3.connect(\"../data-collection/nyt-sudoku.db\")\n",
    "cur = con.cursor()\n",
    "\n",
    "doks_perf = pd.read_sql(\"SELECT * from doks_performance;\",\n",
    "           con)\n",
    "\n",
    "doks_easy = pd.read_sql(\"SELECT * from doks_easy;\",\n",
    "           con)"
   ]
  },
  {
   "cell_type": "code",
   "execution_count": 3,
   "id": "9d188983",
   "metadata": {},
   "outputs": [],
   "source": [
    "doks_easy['puzzle'] = doks_easy['puzzle'].apply(literal_eval)\n",
    "doks_easy = doks_easy['puzzle']"
   ]
  },
  {
   "cell_type": "code",
   "execution_count": 7,
   "id": "00dbf7fe",
   "metadata": {},
   "outputs": [],
   "source": [
    "doks_easy = doks_easy.apply(convert_to_binary)"
   ]
  },
  {
   "cell_type": "code",
   "execution_count": 12,
   "id": "2886a493",
   "metadata": {},
   "outputs": [
    {
     "data": {
      "text/plain": [
       "array([[148, 135, 139, 138, 138, 130, 127, 131, 122],\n",
       "       [138, 125, 130, 116, 120, 127, 128, 118, 115],\n",
       "       [137, 101, 116, 123, 116, 120, 114, 131, 111],\n",
       "       [117, 125, 105, 120, 134, 107, 122, 114, 117],\n",
       "       [110, 111, 119, 122, 131, 114, 100, 119, 109],\n",
       "       [121, 109, 112, 102, 103, 105, 115, 104,  99],\n",
       "       [119, 120, 109, 107, 115, 115, 105,  98, 121],\n",
       "       [102, 115, 128, 103,  90, 109, 115,  98,  96],\n",
       "       [107, 104, 104, 107, 102,  99, 111,  94,  95]])"
      ]
     },
     "execution_count": 12,
     "metadata": {},
     "output_type": "execute_result"
    }
   ],
   "source": [
    "doks_easy.sum().reshape((9,9))"
   ]
  }
 ],
 "metadata": {
  "kernelspec": {
   "display_name": "Python 3 (ipykernel)",
   "language": "python",
   "name": "python3"
  },
  "language_info": {
   "codemirror_mode": {
    "name": "ipython",
    "version": 3
   },
   "file_extension": ".py",
   "mimetype": "text/x-python",
   "name": "python",
   "nbconvert_exporter": "python",
   "pygments_lexer": "ipython3",
   "version": "3.7.4"
  }
 },
 "nbformat": 4,
 "nbformat_minor": 5
}
