{
 "cells": [
  {
   "cell_type": "code",
   "execution_count": 24,
   "id": "effbf9d3",
   "metadata": {},
   "outputs": [],
   "source": [
    "# import custom functions\n",
    "from get_candidates import get_candidates\n",
    "from get_row_col import get_row_col\n",
    "from convert_to_binary import convert_to_binary\n",
    "from naked_for_how_long import naked_for_how_long\n",
    "\n",
    "# other functions we need\n",
    "from ast import literal_eval\n",
    "\n",
    "import pandas as pd\n",
    "import numpy as np"
   ]
  },
  {
   "cell_type": "code",
   "execution_count": 25,
   "id": "f2e9152b",
   "metadata": {},
   "outputs": [],
   "source": [
    "# import SQL dependencies\n",
    "import sqlite3\n",
    "\n",
    "# connect to .db\n",
    "con = sqlite3.connect(\"../data-collection/nyt-sudoku.db\")\n",
    "cur = con.cursor()\n",
    "\n",
    "doks_perf = pd.read_sql(\"SELECT * from doks_performance;\",\n",
    "           con)\n",
    "\n",
    "doks_easy = pd.read_sql(\"SELECT * from doks_easy;\",\n",
    "           con)\n",
    "\n",
    "doks_med = pd.read_sql(\"SELECT * from doks_medium;\",\n",
    "           con)\n",
    "\n",
    "doks_hard = pd.read_sql(\"SELECT * from doks_hard;\",\n",
    "           con)"
   ]
  },
  {
   "cell_type": "code",
   "execution_count": 52,
   "id": "528ad341",
   "metadata": {},
   "outputs": [],
   "source": [
    "add_pct = lambda t: str(int(t)) + '%'\n",
    "vfunc = np.vectorize(add_pct)"
   ]
  },
  {
   "cell_type": "code",
   "execution_count": 26,
   "id": "9d188983",
   "metadata": {},
   "outputs": [],
   "source": [
    "doks_easy['puzzle'] = doks_easy['puzzle'].apply(literal_eval)\n",
    "doks_easy = doks_easy['puzzle']"
   ]
  },
  {
   "cell_type": "code",
   "execution_count": 27,
   "id": "00dbf7fe",
   "metadata": {},
   "outputs": [],
   "source": [
    "doks_easy = doks_easy.apply(convert_to_binary)"
   ]
  },
  {
   "cell_type": "code",
   "execution_count": 53,
   "id": "2886a493",
   "metadata": {},
   "outputs": [
    {
     "data": {
      "text/plain": [
       "array(['60%', '59%', '57%', '57%', '53%', '51%', '53%', '49%', '48%',\n",
       "       '54%', '48%', '54%', '50%', '49%', '51%', '51%', '48%', '50%',\n",
       "       '55%', '42%', '44%', '50%', '49%', '50%', '47%', '50%', '45%',\n",
       "       '48%', '50%', '46%', '46%', '55%', '45%', '51%', '49%', '44%',\n",
       "       '46%', '48%', '49%', '48%', '52%', '44%', '47%', '46%', '45%',\n",
       "       '46%', '46%', '45%', '44%', '42%', '42%', '45%', '44%', '41%',\n",
       "       '48%', '49%', '46%', '44%', '49%', '46%', '40%', '44%', '48%',\n",
       "       '46%', '46%', '51%', '43%', '39%', '45%', '43%', '38%', '40%',\n",
       "       '39%', '41%', '40%', '42%', '39%', '43%', '46%', '42%', '40%'],\n",
       "      dtype='<U3')"
      ]
     },
     "execution_count": 53,
     "metadata": {},
     "output_type": "execute_result"
    }
   ],
   "source": [
    "vfunc(np.around(doks_easy.sum().reshape((9,9)) * 100 / len(doks_easy), decimals=0)).flatten()"
   ]
  },
  {
   "cell_type": "code",
   "execution_count": 16,
   "id": "9c70bee7",
   "metadata": {},
   "outputs": [],
   "source": [
    "doks_med['puzzle'] = doks_med['puzzle'].apply(literal_eval)\n",
    "doks_med = doks_med['puzzle']"
   ]
  },
  {
   "cell_type": "code",
   "execution_count": 17,
   "id": "8cc4c321",
   "metadata": {},
   "outputs": [],
   "source": [
    "doks_med = doks_med.apply(convert_to_binary)"
   ]
  },
  {
   "cell_type": "code",
   "execution_count": 18,
   "id": "d73faae7",
   "metadata": {},
   "outputs": [
    {
     "data": {
      "text/plain": [
       "array([27., 33., 26., 29., 28., 29., 30., 32., 34., 31., 28., 30., 28.,\n",
       "       34., 31., 31., 30., 29., 30., 30., 28., 33., 31., 30., 34., 34.,\n",
       "       31., 29., 29., 33., 31., 31., 31., 33., 33., 30., 31., 32., 35.,\n",
       "       27., 33., 34., 29., 28., 27., 34., 30., 30., 29., 31., 28., 31.,\n",
       "       27., 24., 27., 35., 34., 28., 29., 29., 27., 32., 28., 28., 24.,\n",
       "       29., 34., 27., 27., 32., 27., 29., 27., 26., 27., 28., 29., 28.,\n",
       "       25., 25., 28.])"
      ]
     },
     "execution_count": 18,
     "metadata": {},
     "output_type": "execute_result"
    }
   ],
   "source": [
    "(doks_med.sum().reshape((9,9)) * 100 / len(doks_med)).flatten().round()"
   ]
  },
  {
   "cell_type": "code",
   "execution_count": 19,
   "id": "e398c35b",
   "metadata": {},
   "outputs": [],
   "source": [
    "doks_hard['puzzle'] = doks_hard['puzzle'].apply(literal_eval)\n",
    "doks_hard = doks_hard['puzzle']"
   ]
  },
  {
   "cell_type": "code",
   "execution_count": 20,
   "id": "f5264dcd",
   "metadata": {},
   "outputs": [],
   "source": [
    "doks_hard = doks_hard.apply(convert_to_binary)"
   ]
  },
  {
   "cell_type": "code",
   "execution_count": 21,
   "id": "fe5d08bb",
   "metadata": {},
   "outputs": [
    {
     "data": {
      "text/plain": [
       "array([30., 27., 29., 30., 32., 27., 32., 26., 29., 30., 30., 32., 27.,\n",
       "       29., 28., 31., 31., 33., 28., 31., 27., 34., 26., 31., 29., 34.,\n",
       "       30., 31., 35., 32., 26., 29., 30., 34., 30., 30., 34., 29., 30.,\n",
       "       32., 35., 27., 30., 32., 29., 27., 33., 30., 28., 28., 28., 28.,\n",
       "       28., 28., 30., 27., 33., 32., 28., 26., 31., 28., 25., 24., 30.,\n",
       "       29., 29., 31., 35., 28., 27., 27., 27., 29., 24., 26., 26., 30.,\n",
       "       26., 25., 24.])"
      ]
     },
     "execution_count": 21,
     "metadata": {},
     "output_type": "execute_result"
    }
   ],
   "source": [
    "(doks_hard.sum().reshape((9,9)) * 100 / len(doks_hard)).flatten().round()"
   ]
  }
 ],
 "metadata": {
  "kernelspec": {
   "display_name": "Python 3 (ipykernel)",
   "language": "python",
   "name": "python3"
  },
  "language_info": {
   "codemirror_mode": {
    "name": "ipython",
    "version": 3
   },
   "file_extension": ".py",
   "mimetype": "text/x-python",
   "name": "python",
   "nbconvert_exporter": "python",
   "pygments_lexer": "ipython3",
   "version": "3.7.4"
  }
 },
 "nbformat": 4,
 "nbformat_minor": 5
}
