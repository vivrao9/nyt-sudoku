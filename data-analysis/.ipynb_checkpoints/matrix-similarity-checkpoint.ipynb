{
 "cells": [
  {
   "cell_type": "code",
   "execution_count": 1,
   "id": "d0e89261",
   "metadata": {},
   "outputs": [],
   "source": [
    "from ast import literal_eval\n",
    "\n",
    "# import data preparation libraries\n",
    "import pandas as pd\n",
    "import numpy as np\n",
    "import matplotlib.pyplot as plt\n",
    "\n",
    "# import ML libraries\n",
    "from sklearn.preprocessing import StandardScaler\n",
    "from sklearn.manifold import TSNE\n",
    "from sklearn.decomposition import PCA\n",
    "import umap\n",
    "\n",
    "# import SQL dependencies\n",
    "import sqlite3"
   ]
  },
  {
   "cell_type": "code",
   "execution_count": 28,
   "id": "b63f498d",
   "metadata": {},
   "outputs": [],
   "source": [
    "ez = pd.read_csv(r'C:\\Users\\Vivek Rao\\Desktop\\Programming\\nyt-sudoku\\data-visualization\\nyt-sudoku-viz\\src\\data\\easy.csv')\n",
    "ez = ez.drop_duplicates()"
   ]
  },
  {
   "cell_type": "code",
   "execution_count": 3,
   "id": "396aca95",
   "metadata": {},
   "outputs": [],
   "source": [
    "import convert_to_binary"
   ]
  },
  {
   "cell_type": "markdown",
   "id": "29801995",
   "metadata": {},
   "source": [
    "# Method 1: reduce dimensionality with numbers as arrays"
   ]
  },
  {
   "cell_type": "code",
   "execution_count": 4,
   "id": "25a2c998",
   "metadata": {},
   "outputs": [],
   "source": [
    "def return_eig(x):\n",
    "    x = np.array(literal_eval(x)) # .reshape((9,9))\n",
    "#     x[x != 0] = 1\n",
    "    return x # np.linalg.eig(x)[0][0]"
   ]
  },
  {
   "cell_type": "code",
   "execution_count": 5,
   "id": "7416b787",
   "metadata": {},
   "outputs": [
    {
     "data": {
      "text/plain": [
       "0      [7, 5, 2, 0, 4, 8, 0, 0, 0, 6, 0, 0, 0, 0, 7, ...\n",
       "1      [1, 5, 0, 3, 0, 4, 0, 8, 6, 6, 4, 0, 0, 9, 5, ...\n",
       "2      [1, 0, 5, 0, 0, 7, 0, 0, 6, 0, 6, 4, 0, 2, 1, ...\n",
       "3      [0, 4, 3, 5, 2, 0, 1, 7, 0, 1, 2, 7, 0, 0, 0, ...\n",
       "4      [5, 0, 0, 0, 8, 0, 1, 0, 6, 0, 0, 0, 0, 7, 3, ...\n",
       "                             ...                        \n",
       "389    [0, 5, 2, 3, 0, 6, 0, 0, 0, 0, 0, 0, 0, 4, 7, ...\n",
       "390    [8, 6, 9, 0, 2, 0, 1, 7, 0, 7, 2, 0, 4, 1, 6, ...\n",
       "391    [5, 2, 0, 9, 8, 6, 0, 0, 0, 0, 0, 4, 0, 5, 0, ...\n",
       "392    [0, 9, 0, 3, 0, 1, 0, 4, 2, 2, 0, 4, 0, 0, 0, ...\n",
       "393    [0, 9, 2, 0, 7, 0, 1, 0, 0, 0, 0, 7, 0, 5, 0, ...\n",
       "Name: puzzle, Length: 394, dtype: object"
      ]
     },
     "execution_count": 5,
     "metadata": {},
     "output_type": "execute_result"
    }
   ],
   "source": [
    "ez.puzzle.apply(return_eig)"
   ]
  },
  {
   "cell_type": "markdown",
   "id": "9ded2c67",
   "metadata": {},
   "source": [
    "## T-SNE"
   ]
  },
  {
   "cell_type": "code",
   "execution_count": 15,
   "id": "2580ee18",
   "metadata": {},
   "outputs": [],
   "source": [
    "tsne = TSNE(n_components=2,\n",
    "           perplexity=2,\n",
    "           n_iter=2000,\n",
    "           metric='cosine')"
   ]
  },
  {
   "cell_type": "code",
   "execution_count": 16,
   "id": "a68af917",
   "metadata": {},
   "outputs": [
    {
     "name": "stderr",
     "output_type": "stream",
     "text": [
      "C:\\Users\\Vivek Rao\\Anaconda3\\lib\\site-packages\\sklearn\\manifold\\_t_sne.py:783: FutureWarning: The default initialization in TSNE will change from 'random' to 'pca' in 1.2.\n",
      "  FutureWarning,\n",
      "C:\\Users\\Vivek Rao\\Anaconda3\\lib\\site-packages\\sklearn\\manifold\\_t_sne.py:793: FutureWarning: The default learning rate in TSNE will change from 200.0 to 'auto' in 1.2.\n",
      "  FutureWarning,\n",
      "C:\\Users\\Vivek Rao\\Anaconda3\\lib\\site-packages\\sklearn\\manifold\\_t_sne.py:827: FutureWarning: 'square_distances' has been introduced in 0.24 to help phase out legacy squaring behavior. The 'legacy' setting will be removed in 1.1 (renaming of 0.26), and the default setting will be changed to True. In 1.3, 'square_distances' will be removed altogether, and distances will be squared by default. Set 'square_distances'=True to silence this warning.\n",
      "  FutureWarning,\n"
     ]
    }
   ],
   "source": [
    "X_embedded = tsne.fit_transform(ez.puzzle.apply(eval).to_list())"
   ]
  },
  {
   "cell_type": "code",
   "execution_count": 17,
   "id": "2795b99c",
   "metadata": {},
   "outputs": [
    {
     "data": {
      "text/plain": [
       "(-119.2892837524414, 92.48995208740234)"
      ]
     },
     "execution_count": 17,
     "metadata": {},
     "output_type": "execute_result"
    },
    {
     "data": {
      "image/png": "[encoded data removed]",
      "text/plain": [
       "<Figure size 432x288 with 1 Axes>"
      ]
     },
     "metadata": {
      "needs_background": "light"
     },
     "output_type": "display_data"
    }
   ],
   "source": [
    "plt.scatter(X_embedded[:,0], X_embedded[:,1])\n",
    "plt.xlim( (X_embedded.min(axis=0)[0],X_embedded.max(axis=0)[0]) )\n",
    "plt.ylim( (X_embedded.min(axis=0)[1], X_embedded.max(axis=0)[1]) )"
   ]
  },
  {
   "cell_type": "markdown",
   "id": "647f3132",
   "metadata": {},
   "source": [
    "## UMAP"
   ]
  },
  {
   "cell_type": "code",
   "execution_count": 18,
   "id": "134c4c9b",
   "metadata": {},
   "outputs": [],
   "source": [
    "ez = ez[['puzzle_id', 'puzzle']]"
   ]
  },
  {
   "cell_type": "code",
   "execution_count": 19,
   "id": "da1d79fa",
   "metadata": {},
   "outputs": [],
   "source": [
    "# https://stackoverflow.com/questions/39618678/pandas-convert-columns-type-from-list-to-np-array\n",
    "ez.puzzle = ez.puzzle.apply(eval).apply(lambda x: np.array(x))"
   ]
  },
  {
   "cell_type": "code",
   "execution_count": 23,
   "id": "113d6a2b",
   "metadata": {},
   "outputs": [],
   "source": [
    "# following steps on https://umap-learn.readthedocs.io/en/latest/basic_usage.html\n",
    "reducer = umap.UMAP(n_neighbors=5,\n",
    "                    min_dist=0,\n",
    "                    n_components=2,\n",
    "                    random_state=32)"
   ]
  },
  {
   "cell_type": "code",
   "execution_count": 24,
   "id": "0cd3622f",
   "metadata": {},
   "outputs": [
    {
     "data": {
      "text/plain": [
       "(394, 2)"
      ]
     },
     "execution_count": 24,
     "metadata": {},
     "output_type": "execute_result"
    }
   ],
   "source": [
    "embedding = reducer.fit_transform(ez.puzzle.to_list())\n",
    "embedding.shape"
   ]
  },
  {
   "cell_type": "code",
   "execution_count": 25,
   "id": "6b772f6f",
   "metadata": {},
   "outputs": [
    {
     "data": {
      "text/plain": [
       "<matplotlib.collections.PathCollection at 0x1d14007ccc8>"
      ]
     },
     "execution_count": 25,
     "metadata": {},
     "output_type": "execute_result"
    },
    {
     "data": {
      "image/png": "[encoded data removed]",
      "text/plain": [
       "<Figure size 432x288 with 1 Axes>"
      ]
     },
     "metadata": {
      "needs_background": "light"
     },
     "output_type": "display_data"
    }
   ],
   "source": [
    "plt.scatter(embedding[:,0], embedding[:,1])"
   ]
  },
  {
   "cell_type": "markdown",
   "id": "e7c6ba48",
   "metadata": {},
   "source": [
    "# Method 2: reduce dimensionality with lists expanded to columns"
   ]
  },
  {
   "cell_type": "code",
   "execution_count": 29,
   "id": "1e473bde",
   "metadata": {},
   "outputs": [],
   "source": [
    "ez_nums = pd.DataFrame(ez.puzzle.apply(eval).to_list())"
   ]
  },
  {
   "cell_type": "code",
   "execution_count": 30,
   "id": "9117f603",
   "metadata": {},
   "outputs": [],
   "source": [
    "ez_filled = pd.DataFrame(ez.puzzle.apply(eval).to_list())\n",
    "ez_filled = (ez_filled > 0).astype(int)"
   ]
  },
  {
   "cell_type": "markdown",
   "id": "df02b188",
   "metadata": {},
   "source": [
    "## ez_nums"
   ]
  },
  {
   "cell_type": "markdown",
   "id": "7f19d694",
   "metadata": {},
   "source": [
    "### UMAP"
   ]
  },
  {
   "cell_type": "code",
   "execution_count": 31,
   "id": "0099f889",
   "metadata": {},
   "outputs": [],
   "source": [
    "# following steps on https://umap-learn.readthedocs.io/en/latest/basic_usage.html\n",
    "reducer = umap.UMAP(n_neighbors=2,\n",
    "                    min_dist=1,\n",
    "                    n_components=2,\n",
    "                    random_state=51)"
   ]
  },
  {
   "cell_type": "code",
   "execution_count": 32,
   "id": "095b8511",
   "metadata": {},
   "outputs": [
    {
     "name": "stderr",
     "output_type": "stream",
     "text": [
      "C:\\Users\\Vivek Rao\\Anaconda3\\lib\\site-packages\\sklearn\\manifold\\_spectral_embedding.py:261: UserWarning: Graph is not fully connected, spectral embedding may not work as expected.\n",
      "  \"Graph is not fully connected, spectral embedding may not work as expected.\"\n"
     ]
    },
    {
     "data": {
      "text/plain": [
       "(394, 2)"
      ]
     },
     "execution_count": 32,
     "metadata": {},
     "output_type": "execute_result"
    }
   ],
   "source": [
    "embedding = reducer.fit_transform(ez_nums)\n",
    "embedding.shape"
   ]
  },
  {
   "cell_type": "code",
   "execution_count": 33,
   "id": "b361d27a",
   "metadata": {},
   "outputs": [
    {
     "data": {
      "text/plain": [
       "<matplotlib.collections.PathCollection at 0x1d1401f6188>"
      ]
     },
     "execution_count": 33,
     "metadata": {},
     "output_type": "execute_result"
    },
    {
     "data": {
      "image/png": "[encoded data removed]",
      "text/plain": [
       "<Figure size 432x288 with 1 Axes>"
      ]
     },
     "metadata": {
      "needs_background": "light"
     },
     "output_type": "display_data"
    }
   ],
   "source": [
    "plt.scatter(embedding[:,0], embedding[:,1])"
   ]
  },
  {
   "cell_type": "markdown",
   "id": "d0f91a57",
   "metadata": {},
   "source": [
    "## ez_filled"
   ]
  },
  {
   "cell_type": "markdown",
   "id": "8d0afdd1",
   "metadata": {},
   "source": [
    "### UMAP"
   ]
  },
  {
   "cell_type": "code",
   "execution_count": 34,
   "id": "b822355e",
   "metadata": {},
   "outputs": [],
   "source": [
    "# following steps on https://umap-learn.readthedocs.io/en/latest/basic_usage.html\n",
    "reducer = umap.UMAP(n_neighbors=2,\n",
    "                    min_dist=0.85,\n",
    "                    n_components=2,\n",
    "                    random_state=51)"
   ]
  },
  {
   "cell_type": "code",
   "execution_count": 35,
   "id": "4e6f38ef",
   "metadata": {},
   "outputs": [
    {
     "data": {
      "text/plain": [
       "(394, 2)"
      ]
     },
     "execution_count": 35,
     "metadata": {},
     "output_type": "execute_result"
    }
   ],
   "source": [
    "embedding = reducer.fit_transform(ez_filled)\n",
    "embedding.shape"
   ]
  },
  {
   "cell_type": "code",
   "execution_count": 36,
   "id": "71ea838c",
   "metadata": {},
   "outputs": [
    {
     "data": {
      "text/plain": [
       "<matplotlib.collections.PathCollection at 0x1d14307d408>"
      ]
     },
     "execution_count": 36,
     "metadata": {},
     "output_type": "execute_result"
    },
    {
     "data": {
      "image/png": "[encoded data removed]",
      "text/plain": [
       "<Figure size 432x288 with 1 Axes>"
      ]
     },
     "metadata": {
      "needs_background": "light"
     },
     "output_type": "display_data"
    }
   ],
   "source": [
    "plt.scatter(embedding[:,0], embedding[:,1])"
   ]
  },
  {
   "cell_type": "markdown",
   "id": "12940c17",
   "metadata": {},
   "source": [
    "### T-SNE"
   ]
  },
  {
   "cell_type": "code",
   "execution_count": 37,
   "id": "c092e5d4",
   "metadata": {},
   "outputs": [],
   "source": [
    "tsne = TSNE(n_components=2,\n",
    "           perplexity=10,\n",
    "           early_exaggeration=55,\n",
    "           n_iter=1750,\n",
    "           metric='cosine')"
   ]
  },
  {
   "cell_type": "code",
   "execution_count": 38,
   "id": "195fd319",
   "metadata": {},
   "outputs": [
    {
     "name": "stderr",
     "output_type": "stream",
     "text": [
      "C:\\Users\\Vivek Rao\\Anaconda3\\lib\\site-packages\\sklearn\\manifold\\_t_sne.py:783: FutureWarning: The default initialization in TSNE will change from 'random' to 'pca' in 1.2.\n",
      "  FutureWarning,\n",
      "C:\\Users\\Vivek Rao\\Anaconda3\\lib\\site-packages\\sklearn\\manifold\\_t_sne.py:793: FutureWarning: The default learning rate in TSNE will change from 200.0 to 'auto' in 1.2.\n",
      "  FutureWarning,\n",
      "C:\\Users\\Vivek Rao\\Anaconda3\\lib\\site-packages\\sklearn\\manifold\\_t_sne.py:827: FutureWarning: 'square_distances' has been introduced in 0.24 to help phase out legacy squaring behavior. The 'legacy' setting will be removed in 1.1 (renaming of 0.26), and the default setting will be changed to True. In 1.3, 'square_distances' will be removed altogether, and distances will be squared by default. Set 'square_distances'=True to silence this warning.\n",
      "  FutureWarning,\n"
     ]
    }
   ],
   "source": [
    "X_embedded = tsne.fit_transform(ez_filled)"
   ]
  },
  {
   "cell_type": "code",
   "execution_count": 39,
   "id": "db81fd8a",
   "metadata": {},
   "outputs": [
    {
     "data": {
      "text/plain": [
       "<matplotlib.collections.PathCollection at 0x1d143052108>"
      ]
     },
     "execution_count": 39,
     "metadata": {},
     "output_type": "execute_result"
    },
    {
     "data": {
      "image/png": "[encoded data removed]",
      "text/plain": [
       "<Figure size 432x288 with 1 Axes>"
      ]
     },
     "metadata": {
      "needs_background": "light"
     },
     "output_type": "display_data"
    }
   ],
   "source": [
    "plt.scatter(X_embedded[:,0], X_embedded[:,1])"
   ]
  },
  {
   "cell_type": "markdown",
   "id": "eb2a82b0",
   "metadata": {},
   "source": [
    "## PCA"
   ]
  },
  {
   "cell_type": "code",
   "execution_count": 40,
   "id": "c95c3f67",
   "metadata": {},
   "outputs": [],
   "source": [
    "# https://scikit-learn.org/stable/modules/generated/sklearn.decomposition.PCA.html\n",
    "pca= PCA(n_components=2,\n",
    "        random_state=15,\n",
    "        svd_solver='full')"
   ]
  },
  {
   "cell_type": "code",
   "execution_count": 41,
   "id": "7033a86c",
   "metadata": {},
   "outputs": [],
   "source": [
    "pca_embedded = pca.fit_transform(ez_filled)"
   ]
  },
  {
   "cell_type": "code",
   "execution_count": 42,
   "id": "a22869b3",
   "metadata": {},
   "outputs": [
    {
     "data": {
      "text/plain": [
       "<matplotlib.collections.PathCollection at 0x1d143063d08>"
      ]
     },
     "execution_count": 42,
     "metadata": {},
     "output_type": "execute_result"
    },
    {
     "data": {
      "image/png": "[encoded data removed]",
      "text/plain": [
       "<Figure size 432x288 with 1 Axes>"
      ]
     },
     "metadata": {
      "needs_background": "light"
     },
     "output_type": "display_data"
    }
   ],
   "source": [
    "plt.scatter(pca_embedded[:,0], pca_embedded[:,1])"
   ]
  },
  {
   "cell_type": "markdown",
   "id": "1dc711fa",
   "metadata": {},
   "source": [
    "# Method 3: dimension reductionality on performance"
   ]
  },
  {
   "cell_type": "code",
   "execution_count": 43,
   "id": "a87d4986",
   "metadata": {},
   "outputs": [],
   "source": [
    "con = sqlite3.connect(\"../data-collection/nyt-sudoku.db\")\n",
    "cur = con.cursor()"
   ]
  },
  {
   "cell_type": "code",
   "execution_count": 44,
   "id": "43689b24",
   "metadata": {},
   "outputs": [],
   "source": [
    "doks_perf = pd.read_sql(\"SELECT * from doks_performance;\",\n",
    "           con)"
   ]
  },
  {
   "cell_type": "code",
   "execution_count": 45,
   "id": "65b17075",
   "metadata": {},
   "outputs": [],
   "source": [
    "times_col = pd.DataFrame(doks_perf.times.apply(eval).to_list())\n",
    "times_col = times_col.fillna(0)"
   ]
  },
  {
   "cell_type": "markdown",
   "id": "de566332",
   "metadata": {},
   "source": [
    "## UMAP on times"
   ]
  },
  {
   "cell_type": "code",
   "execution_count": 75,
   "id": "d23f2fcb",
   "metadata": {},
   "outputs": [],
   "source": [
    "# following steps on https://umap-learn.readthedocs.io/en/latest/basic_usage.html\n",
    "reducer = umap.UMAP(n_neighbors=2,\n",
    "                    min_dist=0.85,\n",
    "                    n_components=2,\n",
    "                    random_state=51)"
   ]
  },
  {
   "cell_type": "code",
   "execution_count": 76,
   "id": "557a2cd0",
   "metadata": {},
   "outputs": [
    {
     "name": "stderr",
     "output_type": "stream",
     "text": [
      "C:\\Users\\Vivek Rao\\Anaconda3\\lib\\site-packages\\sklearn\\manifold\\_spectral_embedding.py:261: UserWarning: Graph is not fully connected, spectral embedding may not work as expected.\n",
      "  \"Graph is not fully connected, spectral embedding may not work as expected.\"\n"
     ]
    },
    {
     "data": {
      "text/plain": [
       "(69, 2)"
      ]
     },
     "execution_count": 76,
     "metadata": {},
     "output_type": "execute_result"
    }
   ],
   "source": [
    "embedding = reducer.fit_transform(times_col)\n",
    "embedding.shape"
   ]
  },
  {
   "cell_type": "code",
   "execution_count": 77,
   "id": "99b1d8cc",
   "metadata": {},
   "outputs": [
    {
     "data": {
      "text/plain": [
       "<matplotlib.collections.PathCollection at 0x1d140570088>"
      ]
     },
     "execution_count": 77,
     "metadata": {},
     "output_type": "execute_result"
    },
    {
     "data": {
      "image/png": "[encoded data removed]",
      "text/plain": [
       "<Figure size 432x288 with 1 Axes>"
      ]
     },
     "metadata": {
      "needs_background": "light"
     },
     "output_type": "display_data"
    }
   ],
   "source": [
    "plt.scatter(embedding[:,0], embedding[:,1])"
   ]
  },
  {
   "cell_type": "code",
   "execution_count": 80,
   "id": "16afa3e2",
   "metadata": {},
   "outputs": [],
   "source": [
    "times_embed = pd.DataFrame(embedding)\n",
    "times_embed['id'] = doks_perf['date']"
   ]
  },
  {
   "cell_type": "code",
   "execution_count": 83,
   "id": "621edfca",
   "metadata": {},
   "outputs": [],
   "source": [
    "import sklearn.cluster as cluster"
   ]
  },
  {
   "cell_type": "code",
   "execution_count": 92,
   "id": "3055568f",
   "metadata": {},
   "outputs": [],
   "source": [
    "kmeans_pred = pd.DataFrame(cluster.KMeans(n_clusters=6).fit_predict(embedding))\n",
    "# kmeans_pred.to_csv('kmeans_pred.csv', index=False)"
   ]
  },
  {
   "cell_type": "code",
   "execution_count": 98,
   "id": "57a1d88a",
   "metadata": {},
   "outputs": [],
   "source": [
    "kmeans_cluster = pd.concat([times_embed, kmeans_pred], axis=1)"
   ]
  },
  {
   "cell_type": "code",
   "execution_count": 110,
   "id": "1b0b4574",
   "metadata": {},
   "outputs": [],
   "source": [
    "kmeans_cluster.columns = ['x', 'y', 'date', 'cluster']"
   ]
  },
  {
   "cell_type": "code",
   "execution_count": 112,
   "id": "e407a4e4",
   "metadata": {
    "scrolled": false
   },
   "outputs": [
    {
     "data": {
      "text/html": [
       "<div>\n",
       "<style scoped>\n",
       "    .dataframe tbody tr th:only-of-type {\n",
       "        vertical-align: middle;\n",
       "    }\n",
       "\n",
       "    .dataframe tbody tr th {\n",
       "        vertical-align: top;\n",
       "    }\n",
       "\n",
       "    .dataframe thead th {\n",
       "        text-align: right;\n",
       "    }\n",
       "</style>\n",
       "<table border=\"1\" class=\"dataframe\">\n",
       "  <thead>\n",
       "    <tr style=\"text-align: right;\">\n",
       "      <th></th>\n",
       "      <th>x</th>\n",
       "      <th>y</th>\n",
       "      <th>date</th>\n",
       "      <th>cluster</th>\n",
       "    </tr>\n",
       "  </thead>\n",
       "  <tbody>\n",
       "    <tr>\n",
       "      <th>0</th>\n",
       "      <td>-2.051484</td>\n",
       "      <td>-2.474685</td>\n",
       "      <td>January 23, 2023</td>\n",
       "      <td>1</td>\n",
       "    </tr>\n",
       "    <tr>\n",
       "      <th>1</th>\n",
       "      <td>13.922671</td>\n",
       "      <td>-8.057891</td>\n",
       "      <td>January 24, 2023</td>\n",
       "      <td>2</td>\n",
       "    </tr>\n",
       "    <tr>\n",
       "      <th>2</th>\n",
       "      <td>-1.455724</td>\n",
       "      <td>2.295569</td>\n",
       "      <td>January 25, 2023</td>\n",
       "      <td>1</td>\n",
       "    </tr>\n",
       "    <tr>\n",
       "      <th>3</th>\n",
       "      <td>-4.570138</td>\n",
       "      <td>0.910244</td>\n",
       "      <td>February 2, 2023</td>\n",
       "      <td>1</td>\n",
       "    </tr>\n",
       "    <tr>\n",
       "      <th>4</th>\n",
       "      <td>2.902914</td>\n",
       "      <td>-1.697090</td>\n",
       "      <td>February 3, 2023</td>\n",
       "      <td>1</td>\n",
       "    </tr>\n",
       "    <tr>\n",
       "      <th>...</th>\n",
       "      <td>...</td>\n",
       "      <td>...</td>\n",
       "      <td>...</td>\n",
       "      <td>...</td>\n",
       "    </tr>\n",
       "    <tr>\n",
       "      <th>64</th>\n",
       "      <td>5.762582</td>\n",
       "      <td>10.241396</td>\n",
       "      <td>September 6, 2023</td>\n",
       "      <td>0</td>\n",
       "    </tr>\n",
       "    <tr>\n",
       "      <th>65</th>\n",
       "      <td>5.266812</td>\n",
       "      <td>9.745621</td>\n",
       "      <td>October 1, 2023</td>\n",
       "      <td>0</td>\n",
       "    </tr>\n",
       "    <tr>\n",
       "      <th>66</th>\n",
       "      <td>-4.024800</td>\n",
       "      <td>0.247696</td>\n",
       "      <td>October 2, 2023</td>\n",
       "      <td>1</td>\n",
       "    </tr>\n",
       "    <tr>\n",
       "      <th>67</th>\n",
       "      <td>13.180649</td>\n",
       "      <td>-7.509513</td>\n",
       "      <td>October 6, 2023</td>\n",
       "      <td>2</td>\n",
       "    </tr>\n",
       "    <tr>\n",
       "      <th>68</th>\n",
       "      <td>-4.890413</td>\n",
       "      <td>-2.456849</td>\n",
       "      <td>October 7, 2023</td>\n",
       "      <td>1</td>\n",
       "    </tr>\n",
       "  </tbody>\n",
       "</table>\n",
       "<p>69 rows × 4 columns</p>\n",
       "</div>"
      ],
      "text/plain": [
       "            x          y               date  cluster\n",
       "0   -2.051484  -2.474685   January 23, 2023        1\n",
       "1   13.922671  -8.057891   January 24, 2023        2\n",
       "2   -1.455724   2.295569   January 25, 2023        1\n",
       "3   -4.570138   0.910244   February 2, 2023        1\n",
       "4    2.902914  -1.697090   February 3, 2023        1\n",
       "..        ...        ...                ...      ...\n",
       "64   5.762582  10.241396  September 6, 2023        0\n",
       "65   5.266812   9.745621    October 1, 2023        0\n",
       "66  -4.024800   0.247696    October 2, 2023        1\n",
       "67  13.180649  -7.509513    October 6, 2023        2\n",
       "68  -4.890413  -2.456849    October 7, 2023        1\n",
       "\n",
       "[69 rows x 4 columns]"
      ]
     },
     "execution_count": 112,
     "metadata": {},
     "output_type": "execute_result"
    }
   ],
   "source": [
    "kmeans_cluster"
   ]
  },
  {
   "cell_type": "markdown",
   "id": "4c63ecd9",
   "metadata": {},
   "source": [
    "### Bring in times data to see similarities"
   ]
  },
  {
   "cell_type": "code",
   "execution_count": 120,
   "id": "03ee1113",
   "metadata": {},
   "outputs": [],
   "source": [
    "full_perf = kmeans_cluster.merge(doks_perf, left_on='date', right_on='date', how='left')"
   ]
  },
  {
   "cell_type": "code",
   "execution_count": 129,
   "id": "4edc171b",
   "metadata": {},
   "outputs": [
    {
     "data": {
      "text/plain": [
       "52"
      ]
     },
     "execution_count": 129,
     "metadata": {},
     "output_type": "execute_result"
    }
   ],
   "source": [
    "max(full_perf['times'].apply(eval).apply(len))"
   ]
  },
  {
   "cell_type": "code",
   "execution_count": 133,
   "id": "005284a7",
   "metadata": {},
   "outputs": [],
   "source": [
    "import itertools\n",
    "from pprint import pprint\n",
    "pad_token = 0\n",
    "\n",
    "padded_times= list(zip(*itertools.zip_longest(*full_perf['times'].apply(eval), fillvalue=pad_token)))"
   ]
  },
  {
   "cell_type": "code",
   "execution_count": 139,
   "id": "4d202001",
   "metadata": {},
   "outputs": [],
   "source": [
    "padded_times = [list(x) for x in padded_times]"
   ]
  },
  {
   "cell_type": "code",
   "execution_count": 142,
   "id": "c9c622c2",
   "metadata": {},
   "outputs": [
    {
     "data": {
      "text/html": [
       "<div>\n",
       "<style scoped>\n",
       "    .dataframe tbody tr th:only-of-type {\n",
       "        vertical-align: middle;\n",
       "    }\n",
       "\n",
       "    .dataframe tbody tr th {\n",
       "        vertical-align: top;\n",
       "    }\n",
       "\n",
       "    .dataframe thead th {\n",
       "        text-align: right;\n",
       "    }\n",
       "</style>\n",
       "<table border=\"1\" class=\"dataframe\">\n",
       "  <thead>\n",
       "    <tr style=\"text-align: right;\">\n",
       "      <th></th>\n",
       "      <th>0</th>\n",
       "      <th>1</th>\n",
       "      <th>2</th>\n",
       "      <th>3</th>\n",
       "      <th>4</th>\n",
       "      <th>5</th>\n",
       "      <th>6</th>\n",
       "      <th>7</th>\n",
       "      <th>8</th>\n",
       "      <th>9</th>\n",
       "      <th>...</th>\n",
       "      <th>42</th>\n",
       "      <th>43</th>\n",
       "      <th>44</th>\n",
       "      <th>45</th>\n",
       "      <th>46</th>\n",
       "      <th>47</th>\n",
       "      <th>48</th>\n",
       "      <th>49</th>\n",
       "      <th>50</th>\n",
       "      <th>51</th>\n",
       "    </tr>\n",
       "  </thead>\n",
       "  <tbody>\n",
       "    <tr>\n",
       "      <th>0</th>\n",
       "      <td>13.395</td>\n",
       "      <td>2.952</td>\n",
       "      <td>1.854</td>\n",
       "      <td>22.153</td>\n",
       "      <td>1.588</td>\n",
       "      <td>1.440</td>\n",
       "      <td>2.803</td>\n",
       "      <td>2.029</td>\n",
       "      <td>2.741</td>\n",
       "      <td>2.725</td>\n",
       "      <td>...</td>\n",
       "      <td>2.351</td>\n",
       "      <td>0.000</td>\n",
       "      <td>0.000</td>\n",
       "      <td>0.0</td>\n",
       "      <td>0.0</td>\n",
       "      <td>0.0</td>\n",
       "      <td>0.0</td>\n",
       "      <td>0.0</td>\n",
       "      <td>0.0</td>\n",
       "      <td>0.0</td>\n",
       "    </tr>\n",
       "    <tr>\n",
       "      <th>1</th>\n",
       "      <td>3.259</td>\n",
       "      <td>3.111</td>\n",
       "      <td>10.104</td>\n",
       "      <td>1.749</td>\n",
       "      <td>4.859</td>\n",
       "      <td>5.247</td>\n",
       "      <td>2.128</td>\n",
       "      <td>3.234</td>\n",
       "      <td>2.826</td>\n",
       "      <td>3.995</td>\n",
       "      <td>...</td>\n",
       "      <td>1.952</td>\n",
       "      <td>2.290</td>\n",
       "      <td>0.000</td>\n",
       "      <td>0.0</td>\n",
       "      <td>0.0</td>\n",
       "      <td>0.0</td>\n",
       "      <td>0.0</td>\n",
       "      <td>0.0</td>\n",
       "      <td>0.0</td>\n",
       "      <td>0.0</td>\n",
       "    </tr>\n",
       "    <tr>\n",
       "      <th>2</th>\n",
       "      <td>3.839</td>\n",
       "      <td>7.636</td>\n",
       "      <td>5.141</td>\n",
       "      <td>3.377</td>\n",
       "      <td>10.947</td>\n",
       "      <td>4.145</td>\n",
       "      <td>1.622</td>\n",
       "      <td>1.354</td>\n",
       "      <td>2.867</td>\n",
       "      <td>2.643</td>\n",
       "      <td>...</td>\n",
       "      <td>1.605</td>\n",
       "      <td>0.000</td>\n",
       "      <td>0.000</td>\n",
       "      <td>0.0</td>\n",
       "      <td>0.0</td>\n",
       "      <td>0.0</td>\n",
       "      <td>0.0</td>\n",
       "      <td>0.0</td>\n",
       "      <td>0.0</td>\n",
       "      <td>0.0</td>\n",
       "    </tr>\n",
       "    <tr>\n",
       "      <th>3</th>\n",
       "      <td>3.213</td>\n",
       "      <td>3.308</td>\n",
       "      <td>7.301</td>\n",
       "      <td>1.776</td>\n",
       "      <td>3.999</td>\n",
       "      <td>2.488</td>\n",
       "      <td>1.391</td>\n",
       "      <td>2.229</td>\n",
       "      <td>4.984</td>\n",
       "      <td>5.693</td>\n",
       "      <td>...</td>\n",
       "      <td>5.604</td>\n",
       "      <td>3.941</td>\n",
       "      <td>1.727</td>\n",
       "      <td>0.0</td>\n",
       "      <td>0.0</td>\n",
       "      <td>0.0</td>\n",
       "      <td>0.0</td>\n",
       "      <td>0.0</td>\n",
       "      <td>0.0</td>\n",
       "      <td>0.0</td>\n",
       "    </tr>\n",
       "    <tr>\n",
       "      <th>4</th>\n",
       "      <td>7.881</td>\n",
       "      <td>1.891</td>\n",
       "      <td>2.165</td>\n",
       "      <td>2.742</td>\n",
       "      <td>1.978</td>\n",
       "      <td>2.616</td>\n",
       "      <td>2.384</td>\n",
       "      <td>9.455</td>\n",
       "      <td>23.621</td>\n",
       "      <td>2.046</td>\n",
       "      <td>...</td>\n",
       "      <td>5.145</td>\n",
       "      <td>1.679</td>\n",
       "      <td>4.157</td>\n",
       "      <td>0.0</td>\n",
       "      <td>0.0</td>\n",
       "      <td>0.0</td>\n",
       "      <td>0.0</td>\n",
       "      <td>0.0</td>\n",
       "      <td>0.0</td>\n",
       "      <td>0.0</td>\n",
       "    </tr>\n",
       "  </tbody>\n",
       "</table>\n",
       "<p>5 rows × 52 columns</p>\n",
       "</div>"
      ],
      "text/plain": [
       "       0      1       2       3       4      5      6      7       8      9   \\\n",
       "0  13.395  2.952   1.854  22.153   1.588  1.440  2.803  2.029   2.741  2.725   \n",
       "1   3.259  3.111  10.104   1.749   4.859  5.247  2.128  3.234   2.826  3.995   \n",
       "2   3.839  7.636   5.141   3.377  10.947  4.145  1.622  1.354   2.867  2.643   \n",
       "3   3.213  3.308   7.301   1.776   3.999  2.488  1.391  2.229   4.984  5.693   \n",
       "4   7.881  1.891   2.165   2.742   1.978  2.616  2.384  9.455  23.621  2.046   \n",
       "\n",
       "   ...     42     43     44   45   46   47   48   49   50   51  \n",
       "0  ...  2.351  0.000  0.000  0.0  0.0  0.0  0.0  0.0  0.0  0.0  \n",
       "1  ...  1.952  2.290  0.000  0.0  0.0  0.0  0.0  0.0  0.0  0.0  \n",
       "2  ...  1.605  0.000  0.000  0.0  0.0  0.0  0.0  0.0  0.0  0.0  \n",
       "3  ...  5.604  3.941  1.727  0.0  0.0  0.0  0.0  0.0  0.0  0.0  \n",
       "4  ...  5.145  1.679  4.157  0.0  0.0  0.0  0.0  0.0  0.0  0.0  \n",
       "\n",
       "[5 rows x 52 columns]"
      ]
     },
     "execution_count": 142,
     "metadata": {},
     "output_type": "execute_result"
    }
   ],
   "source": [
    "padded_times_df = pd.DataFrame(padded_times)\n",
    "padded_times_df.head()"
   ]
  },
  {
   "cell_type": "code",
   "execution_count": 147,
   "id": "9b2a229c",
   "metadata": {
    "scrolled": true
   },
   "outputs": [],
   "source": [
    "pd.concat([kmeans_pred, padded_times_df], axis=1).to_csv('times_by_cluster.csv', index=False)"
   ]
  },
  {
   "cell_type": "code",
   "execution_count": 115,
   "id": "0ad68079",
   "metadata": {},
   "outputs": [
    {
     "data": {
      "text/plain": [
       "<matplotlib.collections.PathCollection at 0x1d142024208>"
      ]
     },
     "execution_count": 115,
     "metadata": {},
     "output_type": "execute_result"
    },
    {
     "data": {
      "image/png": "[encoded data removed]",
      "text/plain": [
       "<Figure size 432x288 with 1 Axes>"
      ]
     },
     "metadata": {
      "needs_background": "light"
     },
     "output_type": "display_data"
    }
   ],
   "source": [
    "plt.scatter(kmeans_cluster['x'], kmeans_cluster['y'], c=kmeans_cluster['cluster'])"
   ]
  },
  {
   "cell_type": "code",
   "execution_count": 82,
   "id": "37344f41",
   "metadata": {},
   "outputs": [],
   "source": [
    "times_embed.to_csv('times_embedded.csv', index=False)"
   ]
  },
  {
   "cell_type": "markdown",
   "id": "2ebf1984",
   "metadata": {},
   "source": [
    "# Method 4: use linear algebra"
   ]
  },
  {
   "cell_type": "markdown",
   "id": "931b183d",
   "metadata": {},
   "source": [
    "Inspired by the links over on <a href=\"https://www.pinecone.io/learn/\">pinecone.io</a>"
   ]
  },
  {
   "cell_type": "code",
   "execution_count": 47,
   "id": "c6fad7e5",
   "metadata": {},
   "outputs": [
    {
     "data": {
      "text/plain": [
       "13"
      ]
     },
     "execution_count": 47,
     "metadata": {},
     "output_type": "execute_result"
    }
   ],
   "source": [
    "np.inner(convert_to_binary(ez.puzzle[0]),\n",
    "         convert_to_binary(ez.puzzle[1]))"
   ]
  },
  {
   "cell_type": "code",
   "execution_count": 52,
   "id": "3e7647d4",
   "metadata": {},
   "outputs": [],
   "source": [
    "from itertools import combinations"
   ]
  },
  {
   "cell_type": "code",
   "execution_count": 63,
   "id": "c2f729d4",
   "metadata": {},
   "outputs": [],
   "source": [
    "simmat = ez.puzzle.apply(convert_to_binary).apply(\n",
    "    lambda x: ez.puzzle.apply(convert_to_binary).apply(\n",
    "        lambda y: np.inner(x, y)))"
   ]
  },
  {
   "cell_type": "code",
   "execution_count": 68,
   "id": "c394cad5",
   "metadata": {},
   "outputs": [],
   "source": [
    "pd.DataFrame(np.triu(simmat)).to_csv('similarity_matrix.csv')"
   ]
  },
  {
   "cell_type": "code",
   "execution_count": 79,
   "id": "04ce37cd",
   "metadata": {},
   "outputs": [
    {
     "data": {
      "text/plain": [
       "'2023-01-17'"
      ]
     },
     "execution_count": 79,
     "metadata": {},
     "output_type": "execute_result"
    }
   ],
   "source": [
    "# highest score was between 92 and 165\n",
    "# aka between '2022-02-16' and '2023-01-17'\n",
    "ez.date[ez.index[165]]"
   ]
  },
  {
   "cell_type": "code",
   "execution_count": 81,
   "id": "8199c0e0",
   "metadata": {},
   "outputs": [
    {
     "data": {
      "text/plain": [
       "'2021-12-08'"
      ]
     },
     "execution_count": 81,
     "metadata": {},
     "output_type": "execute_result"
    }
   ],
   "source": [
    "# highest score was between 37 and 53\n",
    "# aka between '2021-11-12' and '2021-12-08'\n",
    "ez.date[ez.index[53]]"
   ]
  }
 ],
 "metadata": {
  "kernelspec": {
   "display_name": "Python 3 (ipykernel)",
   "language": "python",
   "name": "python3"
  },
  "language_info": {
   "codemirror_mode": {
    "name": "ipython",
    "version": 3
   },
   "file_extension": ".py",
   "mimetype": "text/x-python",
   "name": "python",
   "nbconvert_exporter": "python",
   "pygments_lexer": "ipython3",
   "version": "3.7.4"
  }
 },
 "nbformat": 4,
 "nbformat_minor": 5
}
