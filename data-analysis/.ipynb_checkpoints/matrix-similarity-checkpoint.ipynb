{
 "cells": [
  {
   "cell_type": "code",
   "execution_count": 36,
   "id": "d0e89261",
   "metadata": {},
   "outputs": [],
   "source": [
    "from ast import literal_eval\n",
    "\n",
    "# import data preparation libraries\n",
    "import pandas as pd\n",
    "import numpy as np\n",
    "import matplotlib.pyplot as plt\n",
    "\n",
    "# import ML libraries\n",
    "from sklearn.preprocessing import StandardScaler\n",
    "from sklearn.manifold import TSNE\n",
    "from sklearn.decomposition import PCA\n",
    "import umap\n",
    "\n",
    "# import SQL dependencies\n",
    "import sqlite3"
   ]
  },
  {
   "cell_type": "code",
   "execution_count": 60,
   "id": "b63f498d",
   "metadata": {},
   "outputs": [],
   "source": [
    "ez = pd.read_csv(r'C:\\Users\\Vivek Rao\\Desktop\\Programming\\nyt-sudoku\\data-collection\\easy.csv')\n",
    "ez = ez.drop_duplicates()"
   ]
  },
  {
   "cell_type": "code",
   "execution_count": 42,
   "id": "396aca95",
   "metadata": {},
   "outputs": [],
   "source": [
    "# create a function that converts a sudokue grid\n",
    "# to a sparse matrix with 1s and 0s, where 1\n",
    "# indicates the cell came pre-filled\n",
    "# generated using ChatGPT\n",
    "def convert_to_binary(grid) -> list:\n",
    "    \"\"\"\n",
    "    Takes a NumPy array as input and returns an array with 1s and 0s based on the input array's value.\n",
    "    \"\"\"\n",
    "    \n",
    "     # Convert the input string to a NumPy array\n",
    "    if isinstance(grid, str):\n",
    "        arr = np.array(literal_eval(grid))\n",
    "    \n",
    "    return np.where(arr != 0, 1, 0)"
   ]
  },
  {
   "cell_type": "markdown",
   "id": "29801995",
   "metadata": {},
   "source": [
    "# Method 1: reduce dimensionality with numbers as arrays"
   ]
  },
  {
   "cell_type": "code",
   "execution_count": 105,
   "id": "25a2c998",
   "metadata": {},
   "outputs": [],
   "source": [
    "def return_eig(x):\n",
    "    x = np.array(literal_eval(x)) # .reshape((9,9))\n",
    "#     x[x != 0] = 1\n",
    "    return x # np.linalg.eig(x)[0][0]"
   ]
  },
  {
   "cell_type": "code",
   "execution_count": 112,
   "id": "7416b787",
   "metadata": {},
   "outputs": [
    {
     "data": {
      "text/plain": [
       "0      [1, 0, 6, 0, 4, 0, 9, 0, 0, 2, 0, 0, 0, 8, 0, ...\n",
       "1      [0, 5, 3, 8, 0, 1, 0, 7, 0, 0, 0, 6, 3, 0, 9, ...\n",
       "2      [2, 3, 1, 4, 5, 0, 0, 0, 0, 7, 0, 0, 0, 0, 0, ...\n",
       "3      [0, 6, 1, 2, 4, 0, 0, 3, 0, 0, 0, 3, 7, 0, 5, ...\n",
       "4      [3, 8, 6, 0, 4, 0, 0, 0, 5, 0, 0, 0, 6, 0, 0, ...\n",
       "                             ...                        \n",
       "186    [2, 9, 5, 6, 0, 0, 8, 0, 0, 0, 0, 7, 0, 0, 4, ...\n",
       "187    [1, 0, 6, 3, 9, 0, 0, 0, 2, 0, 8, 7, 0, 1, 0, ...\n",
       "188    [0, 0, 0, 7, 0, 1, 8, 0, 4, 1, 3, 7, 8, 0, 0, ...\n",
       "189    [6, 2, 3, 7, 0, 0, 0, 0, 0, 0, 0, 8, 1, 0, 5, ...\n",
       "190    [7, 5, 2, 0, 4, 8, 0, 0, 0, 6, 0, 0, 0, 0, 7, ...\n",
       "Name: puzzle, Length: 191, dtype: object"
      ]
     },
     "execution_count": 112,
     "metadata": {},
     "output_type": "execute_result"
    }
   ],
   "source": [
    "ez.puzzle.apply(return_eig)"
   ]
  },
  {
   "cell_type": "markdown",
   "id": "9ded2c67",
   "metadata": {},
   "source": [
    "## T-SNE"
   ]
  },
  {
   "cell_type": "code",
   "execution_count": 103,
   "id": "2580ee18",
   "metadata": {},
   "outputs": [],
   "source": [
    "tsne = TSNE(n_components=2,\n",
    "           perplexity=20,\n",
    "           n_iter=2000,\n",
    "           metric='cosine')"
   ]
  },
  {
   "cell_type": "code",
   "execution_count": 106,
   "id": "a68af917",
   "metadata": {},
   "outputs": [
    {
     "name": "stderr",
     "output_type": "stream",
     "text": [
      "C:\\Users\\Vivek Rao\\Anaconda3\\lib\\site-packages\\sklearn\\manifold\\_t_sne.py:783: FutureWarning: The default initialization in TSNE will change from 'random' to 'pca' in 1.2.\n",
      "  FutureWarning,\n",
      "C:\\Users\\Vivek Rao\\Anaconda3\\lib\\site-packages\\sklearn\\manifold\\_t_sne.py:793: FutureWarning: The default learning rate in TSNE will change from 200.0 to 'auto' in 1.2.\n",
      "  FutureWarning,\n",
      "C:\\Users\\Vivek Rao\\Anaconda3\\lib\\site-packages\\sklearn\\manifold\\_t_sne.py:827: FutureWarning: 'square_distances' has been introduced in 0.24 to help phase out legacy squaring behavior. The 'legacy' setting will be removed in 1.1 (renaming of 0.26), and the default setting will be changed to True. In 1.3, 'square_distances' will be removed altogether, and distances will be squared by default. Set 'square_distances'=True to silence this warning.\n",
      "  FutureWarning,\n"
     ]
    }
   ],
   "source": [
    "X_embedded = tsne.fit_transform(ez.puzzle.apply(eval).to_list())"
   ]
  },
  {
   "cell_type": "code",
   "execution_count": 107,
   "id": "2795b99c",
   "metadata": {},
   "outputs": [
    {
     "data": {
      "text/plain": [
       "(-17.978466033935547, 18.896289825439453)"
      ]
     },
     "execution_count": 107,
     "metadata": {},
     "output_type": "execute_result"
    },
    {
     "data": {
      "image/png": "[encoded data removed]",
      "text/plain": [
       "<Figure size 432x288 with 1 Axes>"
      ]
     },
     "metadata": {
      "needs_background": "light"
     },
     "output_type": "display_data"
    }
   ],
   "source": [
    "plt.scatter(X_embedded[:,0], X_embedded[:,1])\n",
    "plt.xlim( (X_embedded.min(axis=0)[0],X_embedded.max(axis=0)[0]) )\n",
    "plt.ylim( (X_embedded.min(axis=0)[1], X_embedded.max(axis=0)[1]) )"
   ]
  },
  {
   "cell_type": "markdown",
   "id": "647f3132",
   "metadata": {},
   "source": [
    "## UMAP"
   ]
  },
  {
   "cell_type": "code",
   "execution_count": 61,
   "id": "134c4c9b",
   "metadata": {},
   "outputs": [],
   "source": [
    "ez = ez[['puzzle_id', 'puzzle']]"
   ]
  },
  {
   "cell_type": "code",
   "execution_count": 63,
   "id": "da1d79fa",
   "metadata": {},
   "outputs": [],
   "source": [
    "# https://stackoverflow.com/questions/39618678/pandas-convert-columns-type-from-list-to-np-array\n",
    "ez.puzzle = ez.puzzle.apply(eval).apply(lambda x: np.array(x))"
   ]
  },
  {
   "cell_type": "code",
   "execution_count": 96,
   "id": "113d6a2b",
   "metadata": {},
   "outputs": [],
   "source": [
    "# following steps on https://umap-learn.readthedocs.io/en/latest/basic_usage.html\n",
    "reducer = umap.UMAP(n_neighbors=15,\n",
    "                    min_dist=0,\n",
    "                    n_components=2,\n",
    "                    random_state=32)"
   ]
  },
  {
   "cell_type": "code",
   "execution_count": 97,
   "id": "0cd3622f",
   "metadata": {},
   "outputs": [
    {
     "data": {
      "text/plain": [
       "(191, 2)"
      ]
     },
     "execution_count": 97,
     "metadata": {},
     "output_type": "execute_result"
    }
   ],
   "source": [
    "embedding = reducer.fit_transform(ez.puzzle.to_list())\n",
    "embedding.shape"
   ]
  },
  {
   "cell_type": "code",
   "execution_count": 98,
   "id": "6b772f6f",
   "metadata": {},
   "outputs": [
    {
     "data": {
      "text/plain": [
       "<matplotlib.collections.PathCollection at 0x1d26b857108>"
      ]
     },
     "execution_count": 98,
     "metadata": {},
     "output_type": "execute_result"
    },
    {
     "data": {
      "image/png": "[encoded data removed]",
      "text/plain": [
       "<Figure size 432x288 with 1 Axes>"
      ]
     },
     "metadata": {
      "needs_background": "light"
     },
     "output_type": "display_data"
    }
   ],
   "source": [
    "plt.scatter(embedding[:,0], embedding[:,1])"
   ]
  },
  {
   "cell_type": "markdown",
   "id": "e7c6ba48",
   "metadata": {},
   "source": [
    "# Method 2: reduce dimensionality with lists expanded to columns"
   ]
  },
  {
   "cell_type": "code",
   "execution_count": 54,
   "id": "1e473bde",
   "metadata": {},
   "outputs": [],
   "source": [
    "ez_nums = pd.DataFrame(ez.puzzle.apply(eval).to_list())"
   ]
  },
  {
   "cell_type": "code",
   "execution_count": 55,
   "id": "9117f603",
   "metadata": {},
   "outputs": [],
   "source": [
    "ez_filled = pd.DataFrame(ez.puzzle.apply(eval).to_list())\n",
    "ez_filled = (ez_filled > 0).astype(int)"
   ]
  },
  {
   "cell_type": "markdown",
   "id": "df02b188",
   "metadata": {},
   "source": [
    "## ez_nums"
   ]
  },
  {
   "cell_type": "markdown",
   "id": "7f19d694",
   "metadata": {},
   "source": [
    "### UMAP"
   ]
  },
  {
   "cell_type": "code",
   "execution_count": 156,
   "id": "0099f889",
   "metadata": {},
   "outputs": [],
   "source": [
    "# following steps on https://umap-learn.readthedocs.io/en/latest/basic_usage.html\n",
    "reducer = umap.UMAP(n_neighbors=2,\n",
    "                    min_dist=1,\n",
    "                    n_components=2,\n",
    "                    random_state=51)"
   ]
  },
  {
   "cell_type": "code",
   "execution_count": 157,
   "id": "095b8511",
   "metadata": {},
   "outputs": [
    {
     "name": "stderr",
     "output_type": "stream",
     "text": [
      "C:\\Users\\Vivek Rao\\Anaconda3\\lib\\site-packages\\sklearn\\manifold\\_spectral_embedding.py:261: UserWarning: Graph is not fully connected, spectral embedding may not work as expected.\n",
      "  \"Graph is not fully connected, spectral embedding may not work as expected.\"\n"
     ]
    },
    {
     "data": {
      "text/plain": [
       "(170, 2)"
      ]
     },
     "execution_count": 157,
     "metadata": {},
     "output_type": "execute_result"
    }
   ],
   "source": [
    "embedding = reducer.fit_transform(ez_nums)\n",
    "embedding.shape"
   ]
  },
  {
   "cell_type": "code",
   "execution_count": 158,
   "id": "b361d27a",
   "metadata": {},
   "outputs": [
    {
     "data": {
      "text/plain": [
       "<matplotlib.collections.PathCollection at 0x1f404133908>"
      ]
     },
     "execution_count": 158,
     "metadata": {},
     "output_type": "execute_result"
    },
    {
     "data": {
      "image/png": "[encoded data removed]",
      "text/plain": [
       "<Figure size 432x288 with 1 Axes>"
      ]
     },
     "metadata": {
      "needs_background": "light"
     },
     "output_type": "display_data"
    }
   ],
   "source": [
    "plt.scatter(embedding[:,0], embedding[:,1])"
   ]
  },
  {
   "cell_type": "markdown",
   "id": "d0f91a57",
   "metadata": {},
   "source": [
    "## ez_filled"
   ]
  },
  {
   "cell_type": "markdown",
   "id": "8d0afdd1",
   "metadata": {},
   "source": [
    "### UMAP"
   ]
  },
  {
   "cell_type": "code",
   "execution_count": 186,
   "id": "b822355e",
   "metadata": {},
   "outputs": [],
   "source": [
    "# following steps on https://umap-learn.readthedocs.io/en/latest/basic_usage.html\n",
    "reducer = umap.UMAP(n_neighbors=2,\n",
    "                    min_dist=0.85,\n",
    "                    n_components=2,\n",
    "                    random_state=51)"
   ]
  },
  {
   "cell_type": "code",
   "execution_count": 187,
   "id": "4e6f38ef",
   "metadata": {},
   "outputs": [
    {
     "data": {
      "text/plain": [
       "(170, 2)"
      ]
     },
     "execution_count": 187,
     "metadata": {},
     "output_type": "execute_result"
    }
   ],
   "source": [
    "embedding = reducer.fit_transform(ez_filled)\n",
    "embedding.shape"
   ]
  },
  {
   "cell_type": "code",
   "execution_count": 188,
   "id": "71ea838c",
   "metadata": {},
   "outputs": [
    {
     "data": {
      "text/plain": [
       "<matplotlib.collections.PathCollection at 0x1f403cfa048>"
      ]
     },
     "execution_count": 188,
     "metadata": {},
     "output_type": "execute_result"
    },
    {
     "data": {
      "image/png": "[encoded data removed]",
      "text/plain": [
       "<Figure size 432x288 with 1 Axes>"
      ]
     },
     "metadata": {
      "needs_background": "light"
     },
     "output_type": "display_data"
    }
   ],
   "source": [
    "plt.scatter(embedding[:,0], embedding[:,1])"
   ]
  },
  {
   "cell_type": "markdown",
   "id": "12940c17",
   "metadata": {},
   "source": [
    "### T-SNE"
   ]
  },
  {
   "cell_type": "code",
   "execution_count": 138,
   "id": "c092e5d4",
   "metadata": {},
   "outputs": [],
   "source": [
    "tsne = TSNE(n_components=2,\n",
    "           perplexity=10,\n",
    "           early_exaggeration=55,\n",
    "           n_iter=1750,\n",
    "           metric='cosine')"
   ]
  },
  {
   "cell_type": "code",
   "execution_count": 139,
   "id": "195fd319",
   "metadata": {},
   "outputs": [
    {
     "name": "stderr",
     "output_type": "stream",
     "text": [
      "C:\\Users\\Vivek Rao\\Anaconda3\\lib\\site-packages\\sklearn\\manifold\\_t_sne.py:783: FutureWarning: The default initialization in TSNE will change from 'random' to 'pca' in 1.2.\n",
      "  FutureWarning,\n",
      "C:\\Users\\Vivek Rao\\Anaconda3\\lib\\site-packages\\sklearn\\manifold\\_t_sne.py:793: FutureWarning: The default learning rate in TSNE will change from 200.0 to 'auto' in 1.2.\n",
      "  FutureWarning,\n",
      "C:\\Users\\Vivek Rao\\Anaconda3\\lib\\site-packages\\sklearn\\manifold\\_t_sne.py:827: FutureWarning: 'square_distances' has been introduced in 0.24 to help phase out legacy squaring behavior. The 'legacy' setting will be removed in 1.1 (renaming of 0.26), and the default setting will be changed to True. In 1.3, 'square_distances' will be removed altogether, and distances will be squared by default. Set 'square_distances'=True to silence this warning.\n",
      "  FutureWarning,\n"
     ]
    }
   ],
   "source": [
    "X_embedded = tsne.fit_transform(ez_filled)"
   ]
  },
  {
   "cell_type": "code",
   "execution_count": 140,
   "id": "db81fd8a",
   "metadata": {},
   "outputs": [
    {
     "data": {
      "text/plain": [
       "<matplotlib.collections.PathCollection at 0x1f400259708>"
      ]
     },
     "execution_count": 140,
     "metadata": {},
     "output_type": "execute_result"
    },
    {
     "data": {
      "image/png": "[encoded data removed]",
      "text/plain": [
       "<Figure size 432x288 with 1 Axes>"
      ]
     },
     "metadata": {
      "needs_background": "light"
     },
     "output_type": "display_data"
    }
   ],
   "source": [
    "plt.scatter(X_embedded[:,0], X_embedded[:,1])"
   ]
  },
  {
   "cell_type": "markdown",
   "id": "eb2a82b0",
   "metadata": {},
   "source": [
    "## PCA"
   ]
  },
  {
   "cell_type": "code",
   "execution_count": 124,
   "id": "c95c3f67",
   "metadata": {},
   "outputs": [],
   "source": [
    "# https://scikit-learn.org/stable/modules/generated/sklearn.decomposition.PCA.html\n",
    "pca= PCA(n_components=2,\n",
    "        random_state=15,\n",
    "        svd_solver='full')"
   ]
  },
  {
   "cell_type": "code",
   "execution_count": 125,
   "id": "7033a86c",
   "metadata": {},
   "outputs": [],
   "source": [
    "pca_embedded = pca.fit_transform(ez_filled)"
   ]
  },
  {
   "cell_type": "code",
   "execution_count": 126,
   "id": "a22869b3",
   "metadata": {},
   "outputs": [
    {
     "data": {
      "text/plain": [
       "<matplotlib.collections.PathCollection at 0x1f47fc605c8>"
      ]
     },
     "execution_count": 126,
     "metadata": {},
     "output_type": "execute_result"
    },
    {
     "data": {
      "image/png": "[encoded data removed]",
      "text/plain": [
       "<Figure size 432x288 with 1 Axes>"
      ]
     },
     "metadata": {
      "needs_background": "light"
     },
     "output_type": "display_data"
    }
   ],
   "source": [
    "plt.scatter(pca_embedded[:,0], pca_embedded[:,1])"
   ]
  },
  {
   "cell_type": "markdown",
   "id": "1dc711fa",
   "metadata": {},
   "source": [
    "# Method 3: dimension reductionality on performance"
   ]
  },
  {
   "cell_type": "code",
   "execution_count": 4,
   "id": "a87d4986",
   "metadata": {},
   "outputs": [],
   "source": [
    "con = sqlite3.connect(\"../data-collection/nyt-sudoku.db\")\n",
    "cur = con.cursor()"
   ]
  },
  {
   "cell_type": "code",
   "execution_count": 8,
   "id": "43689b24",
   "metadata": {},
   "outputs": [],
   "source": [
    "doks_perf = pd.read_sql(\"SELECT * from doks_performance;\",\n",
    "           con)"
   ]
  },
  {
   "cell_type": "code",
   "execution_count": 11,
   "id": "65b17075",
   "metadata": {},
   "outputs": [],
   "source": [
    "times_col = pd.DataFrame(doks_perf.times.apply(eval).to_list())\n",
    "times_col = times_col.fillna(0)"
   ]
  },
  {
   "cell_type": "markdown",
   "id": "de566332",
   "metadata": {},
   "source": [
    "## UMAP on times"
   ]
  },
  {
   "cell_type": "code",
   "execution_count": 15,
   "id": "d23f2fcb",
   "metadata": {},
   "outputs": [],
   "source": [
    "# following steps on https://umap-learn.readthedocs.io/en/latest/basic_usage.html\n",
    "reducer = umap.UMAP(n_neighbors=2,\n",
    "                    min_dist=0.85,\n",
    "                    n_components=2,\n",
    "                    random_state=51)"
   ]
  },
  {
   "cell_type": "code",
   "execution_count": 17,
   "id": "557a2cd0",
   "metadata": {},
   "outputs": [
    {
     "data": {
      "text/plain": [
       "(13, 2)"
      ]
     },
     "execution_count": 17,
     "metadata": {},
     "output_type": "execute_result"
    }
   ],
   "source": [
    "embedding = reducer.fit_transform(times_col)\n",
    "embedding.shape"
   ]
  },
  {
   "cell_type": "code",
   "execution_count": 18,
   "id": "99b1d8cc",
   "metadata": {},
   "outputs": [
    {
     "data": {
      "text/plain": [
       "<matplotlib.collections.PathCollection at 0x1f481bf5108>"
      ]
     },
     "execution_count": 18,
     "metadata": {},
     "output_type": "execute_result"
    },
    {
     "data": {
      "image/png": "[encoded data removed]",
      "text/plain": [
       "<Figure size 432x288 with 1 Axes>"
      ]
     },
     "metadata": {
      "needs_background": "light"
     },
     "output_type": "display_data"
    }
   ],
   "source": [
    "plt.scatter(embedding[:,0], embedding[:,1])"
   ]
  },
  {
   "cell_type": "markdown",
   "id": "2ebf1984",
   "metadata": {},
   "source": [
    "# Method 4: use linear algebra"
   ]
  },
  {
   "cell_type": "markdown",
   "id": "931b183d",
   "metadata": {},
   "source": [
    "Inspired by the links over on <a href=\"https://www.pinecone.io/learn/\">pinecone.io</a>"
   ]
  },
  {
   "cell_type": "code",
   "execution_count": 47,
   "id": "c6fad7e5",
   "metadata": {},
   "outputs": [
    {
     "data": {
      "text/plain": [
       "13"
      ]
     },
     "execution_count": 47,
     "metadata": {},
     "output_type": "execute_result"
    }
   ],
   "source": [
    "np.inner(convert_to_binary(ez.puzzle[0]),\n",
    "         convert_to_binary(ez.puzzle[1]))"
   ]
  },
  {
   "cell_type": "code",
   "execution_count": 52,
   "id": "3e7647d4",
   "metadata": {},
   "outputs": [],
   "source": [
    "from itertools import combinations"
   ]
  },
  {
   "cell_type": "code",
   "execution_count": 63,
   "id": "c2f729d4",
   "metadata": {},
   "outputs": [],
   "source": [
    "simmat = ez.puzzle.apply(convert_to_binary).apply(\n",
    "    lambda x: ez.puzzle.apply(convert_to_binary).apply(\n",
    "        lambda y: np.inner(x, y)))"
   ]
  },
  {
   "cell_type": "code",
   "execution_count": 68,
   "id": "c394cad5",
   "metadata": {},
   "outputs": [],
   "source": [
    "pd.DataFrame(np.triu(simmat)).to_csv('similarity_matrix.csv')"
   ]
  },
  {
   "cell_type": "code",
   "execution_count": 79,
   "id": "04ce37cd",
   "metadata": {},
   "outputs": [
    {
     "data": {
      "text/plain": [
       "'2023-01-17'"
      ]
     },
     "execution_count": 79,
     "metadata": {},
     "output_type": "execute_result"
    }
   ],
   "source": [
    "# highest score was between 92 and 165\n",
    "# aka between '2022-02-16' and '2023-01-17'\n",
    "ez.date[ez.index[165]]"
   ]
  },
  {
   "cell_type": "code",
   "execution_count": 81,
   "id": "8199c0e0",
   "metadata": {},
   "outputs": [
    {
     "data": {
      "text/plain": [
       "'2021-12-08'"
      ]
     },
     "execution_count": 81,
     "metadata": {},
     "output_type": "execute_result"
    }
   ],
   "source": [
    "# highest score was between 37 and 53\n",
    "# aka between '2021-11-12' and '2021-12-08'\n",
    "ez.date[ez.index[53]]"
   ]
  }
 ],
 "metadata": {
  "kernelspec": {
   "display_name": "Python 3 (ipykernel)",
   "language": "python",
   "name": "python3"
  },
  "language_info": {
   "codemirror_mode": {
    "name": "ipython",
    "version": 3
   },
   "file_extension": ".py",
   "mimetype": "text/x-python",
   "name": "python",
   "nbconvert_exporter": "python",
   "pygments_lexer": "ipython3",
   "version": "3.7.4"
  }
 },
 "nbformat": 4,
 "nbformat_minor": 5
}
