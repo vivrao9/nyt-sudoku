{
 "cells": [
  {
   "cell_type": "code",
   "execution_count": 1,
   "id": "42d554c5",
   "metadata": {},
   "outputs": [],
   "source": [
    "# import custom functions\n",
    "from get_candidates import get_candidates\n",
    "from get_row_col import get_row_col\n",
    "from convert_to_binary import convert_to_binary\n",
    "from naked_for_how_long import naked_for_how_long\n",
    "\n",
    "# other functions we need\n",
    "from ast import literal_eval\n",
    "\n",
    "import pandas as pd\n",
    "import numpy as np"
   ]
  },
  {
   "cell_type": "code",
   "execution_count": 2,
   "id": "ede32721",
   "metadata": {},
   "outputs": [],
   "source": [
    "# import SQL dependencies\n",
    "import sqlite3\n",
    "\n",
    "# connect to .db\n",
    "con = sqlite3.connect(\"../data-collection/nyt-sudoku.db\")\n",
    "cur = con.cursor()\n",
    "\n",
    "doks_perf = pd.read_sql(\"SELECT * from doks_performance;\",\n",
    "           con)\n",
    "\n",
    "doks_easy = pd.read_sql(\"SELECT * from doks_easy;\",\n",
    "           con)"
   ]
  },
  {
   "cell_type": "code",
   "execution_count": 3,
   "id": "04790dae",
   "metadata": {},
   "outputs": [],
   "source": [
    "# format doks_performance date to match doks_easy format\n",
    "doks_perf['date'] = pd.to_datetime(doks_perf['date'])\n",
    "\n",
    "# format date column in doks_easy\n",
    "doks_easy['date'] = pd.to_datetime(doks_easy['date'])\n",
    "\n",
    "# convert all string of lists to lists\n",
    "doks_perf['doks_order'] = doks_perf['doks_order'].apply(literal_eval)\n",
    "doks_perf['times'] = doks_perf['times'].apply(literal_eval)\n",
    "\n",
    "doks_easy['puzzle'] = doks_easy['puzzle'].apply(literal_eval)\n",
    "doks_easy['solution'] = doks_easy['solution'].apply(literal_eval)"
   ]
  },
  {
   "cell_type": "code",
   "execution_count": 4,
   "id": "938128bf",
   "metadata": {},
   "outputs": [],
   "source": [
    "merged = pd.merge(left=doks_perf,\n",
    "        right=doks_easy,\n",
    "        on='date',\n",
    "        how='left')"
   ]
  },
  {
   "cell_type": "code",
   "execution_count": 5,
   "id": "f318d776",
   "metadata": {},
   "outputs": [],
   "source": [
    "# drop those days for which we don't have original nyt data\n",
    "merged = merged.dropna()"
   ]
  },
  {
   "cell_type": "code",
   "execution_count": 6,
   "id": "04199174",
   "metadata": {},
   "outputs": [],
   "source": [
    "# only keep the columns we need\n",
    "merged = merged[['date', 'puzzle', 'solution', 'doks_order', 'times']]"
   ]
  },
  {
   "cell_type": "code",
   "execution_count": 7,
   "id": "9e24dee4",
   "metadata": {},
   "outputs": [],
   "source": [
    "naked_num_steps = pd.DataFrame(columns=[i for i in range(81)])"
   ]
  },
  {
   "cell_type": "code",
   "execution_count": 8,
   "id": "870ae02c",
   "metadata": {},
   "outputs": [
    {
     "data": {
      "text/html": [
       "<div>\n",
       "<style scoped>\n",
       "    .dataframe tbody tr th:only-of-type {\n",
       "        vertical-align: middle;\n",
       "    }\n",
       "\n",
       "    .dataframe tbody tr th {\n",
       "        vertical-align: top;\n",
       "    }\n",
       "\n",
       "    .dataframe thead th {\n",
       "        text-align: right;\n",
       "    }\n",
       "</style>\n",
       "<table border=\"1\" class=\"dataframe\">\n",
       "  <thead>\n",
       "    <tr style=\"text-align: right;\">\n",
       "      <th></th>\n",
       "      <th>0</th>\n",
       "      <th>1</th>\n",
       "      <th>2</th>\n",
       "      <th>3</th>\n",
       "      <th>4</th>\n",
       "      <th>5</th>\n",
       "      <th>6</th>\n",
       "      <th>7</th>\n",
       "      <th>8</th>\n",
       "      <th>9</th>\n",
       "      <th>...</th>\n",
       "      <th>71</th>\n",
       "      <th>72</th>\n",
       "      <th>73</th>\n",
       "      <th>74</th>\n",
       "      <th>75</th>\n",
       "      <th>76</th>\n",
       "      <th>77</th>\n",
       "      <th>78</th>\n",
       "      <th>79</th>\n",
       "      <th>80</th>\n",
       "    </tr>\n",
       "  </thead>\n",
       "  <tbody>\n",
       "  </tbody>\n",
       "</table>\n",
       "<p>0 rows × 81 columns</p>\n",
       "</div>"
      ],
      "text/plain": [
       "Empty DataFrame\n",
       "Columns: [0, 1, 2, 3, 4, 5, 6, 7, 8, 9, 10, 11, 12, 13, 14, 15, 16, 17, 18, 19, 20, 21, 22, 23, 24, 25, 26, 27, 28, 29, 30, 31, 32, 33, 34, 35, 36, 37, 38, 39, 40, 41, 42, 43, 44, 45, 46, 47, 48, 49, 50, 51, 52, 53, 54, 55, 56, 57, 58, 59, 60, 61, 62, 63, 64, 65, 66, 67, 68, 69, 70, 71, 72, 73, 74, 75, 76, 77, 78, 79, 80]\n",
       "Index: []\n",
       "\n",
       "[0 rows x 81 columns]"
      ]
     },
     "execution_count": 8,
     "metadata": {},
     "output_type": "execute_result"
    }
   ],
   "source": [
    "naked_num_steps"
   ]
  },
  {
   "cell_type": "code",
   "execution_count": 9,
   "id": "d756ea42",
   "metadata": {
    "scrolled": true
   },
   "outputs": [
    {
     "name": "stdout",
     "output_type": "stream",
     "text": [
      "43\n",
      "43\n",
      "45\n",
      "45\n",
      "43\n",
      "45\n",
      "43\n",
      "43\n",
      "43\n",
      "45\n",
      "43\n",
      "43\n",
      "43\n",
      "45\n",
      "45\n",
      "43\n",
      "43\n",
      "43\n",
      "45\n",
      "43\n",
      "49\n",
      "43\n",
      "43\n",
      "43\n",
      "46\n",
      "43\n",
      "43\n",
      "43\n",
      "45\n",
      "45\n",
      "43\n",
      "43\n",
      "43\n",
      "43\n",
      "43\n",
      "44\n",
      "44\n",
      "43\n",
      "45\n",
      "45\n",
      "45\n",
      "44\n",
      "48\n",
      "49\n",
      "47\n",
      "44\n",
      "45\n",
      "45\n",
      "48\n",
      "43\n",
      "43\n",
      "43\n",
      "48\n",
      "47\n",
      "43\n",
      "44\n",
      "43\n",
      "44\n",
      "44\n",
      "44\n",
      "50\n",
      "52\n",
      "44\n",
      "44\n",
      "44\n",
      "48\n",
      "45\n",
      "43\n",
      "47\n",
      "43\n",
      "44\n",
      "48\n",
      "45\n",
      "45\n",
      "44\n",
      "44\n"
     ]
    }
   ],
   "source": [
    "for record in range(len(merged)):\n",
    "    temp_df = pd.DataFrame(naked_for_how_long(merged.iloc[record,3],\n",
    "                  merged.iloc[record,1],\n",
    "                  merged.iloc[record,2]),\n",
    "                    index=[0])\n",
    "    \n",
    "    naked_num_steps = naked_num_steps.append(temp_df)"
   ]
  },
  {
   "cell_type": "code",
   "execution_count": 10,
   "id": "44e54f55",
   "metadata": {},
   "outputs": [],
   "source": [
    "naked_num_steps.to_csv('naked_num_steps.csv', index=False)"
   ]
  },
  {
   "cell_type": "code",
   "execution_count": 11,
   "id": "aed549cc",
   "metadata": {},
   "outputs": [],
   "source": [
    "naked_num_steps = naked_num_steps.replace(0, np.nan)"
   ]
  },
  {
   "cell_type": "code",
   "execution_count": 12,
   "id": "37a3cc90",
   "metadata": {},
   "outputs": [],
   "source": [
    "avg_steps_naked = np.array(np.round(naked_num_steps.sum(axis=0) / naked_num_steps.notna().sum(axis=0), 2)).reshape(9,9)"
   ]
  },
  {
   "cell_type": "code",
   "execution_count": 13,
   "id": "2fcb079a",
   "metadata": {},
   "outputs": [],
   "source": [
    "avg_num_steps_naked = np.array(np.round(naked_num_steps.sum(axis=0) / naked_num_steps.notna().sum(axis=0), 2)).mean()"
   ]
  },
  {
   "cell_type": "code",
   "execution_count": 18,
   "id": "40549c07",
   "metadata": {},
   "outputs": [
    {
     "data": {
      "text/plain": [
       "11.796790123456791"
      ]
     },
     "execution_count": 18,
     "metadata": {},
     "output_type": "execute_result"
    }
   ],
   "source": [
    "avg_num_steps_naked"
   ]
  },
  {
   "cell_type": "code",
   "execution_count": 16,
   "id": "abf54c54",
   "metadata": {},
   "outputs": [
    {
     "data": {
      "text/plain": [
       "array([ 9.45, 10.35, 12.73, 13.32,  9.83,  8.79,  9.5 ,  9.03,  9.65,\n",
       "        9.  , 13.45,  8.86,  9.46, 12.78, 12.87,  9.48,  9.12, 11.28,\n",
       "       10.08, 11.4 , 11.23,  9.68, 11.  , 13.43, 10.63, 16.94, 12.07,\n",
       "        9.88, 13.  , 12.78, 14.26, 10.  , 12.21, 12.16, 15.7 , 11.26,\n",
       "       11.46, 12.57, 12.41,  9.38, 12.27, 11.86, 11.46, 14.75,  8.85,\n",
       "       12.52, 12.81,  9.72, 15.53, 12.17, 15.1 , 12.  ,  8.95,  9.62,\n",
       "       13.84, 12.68, 15.88, 10.65, 15.58, 13.14, 10.57, 10.14, 11.81,\n",
       "        9.87,  9.42, 17.94, 10.17, 15.  ,  6.38, 11.43, 12.34, 15.83,\n",
       "        9.4 , 14.3 , 10.14, 12.39, 17.71, 14.93, 14.52,  9.69,  9.7 ])"
      ]
     },
     "execution_count": 16,
     "metadata": {},
     "output_type": "execute_result"
    }
   ],
   "source": [
    "avg_steps_naked.flatten()"
   ]
  },
  {
   "cell_type": "code",
   "execution_count": 17,
   "id": "c8c5e97c",
   "metadata": {},
   "outputs": [
    {
     "data": {
      "text/plain": [
       "array([-2.35, -1.45,  0.93,  1.52, -1.97, -3.01, -2.3 , -2.77, -2.15,\n",
       "       -2.8 ,  1.65, -2.94, -2.34,  0.98,  1.07, -2.32, -2.68, -0.52,\n",
       "       -1.72, -0.4 , -0.57, -2.12, -0.8 ,  1.63, -1.17,  5.14,  0.27,\n",
       "       -1.92,  1.2 ,  0.98,  2.46, -1.8 ,  0.41,  0.36,  3.9 , -0.54,\n",
       "       -0.34,  0.77,  0.61, -2.42,  0.47,  0.06, -0.34,  2.95, -2.95,\n",
       "        0.72,  1.01, -2.08,  3.73,  0.37,  3.3 ,  0.2 , -2.85, -2.18,\n",
       "        2.04,  0.88,  4.08, -1.15,  3.78,  1.34, -1.23, -1.66,  0.01,\n",
       "       -1.93, -2.38,  6.14, -1.63,  3.2 , -5.42, -0.37,  0.54,  4.03,\n",
       "       -2.4 ,  2.5 , -1.66,  0.59,  5.91,  3.13,  2.72, -2.11, -2.1 ])"
      ]
     },
     "execution_count": 17,
     "metadata": {},
     "output_type": "execute_result"
    }
   ],
   "source": [
    "np.round(avg_steps_naked - avg_num_steps_naked, 2).flatten()"
   ]
  }
 ],
 "metadata": {
  "kernelspec": {
   "display_name": "Python 3 (ipykernel)",
   "language": "python",
   "name": "python3"
  },
  "language_info": {
   "codemirror_mode": {
    "name": "ipython",
    "version": 3
   },
   "file_extension": ".py",
   "mimetype": "text/x-python",
   "name": "python",
   "nbconvert_exporter": "python",
   "pygments_lexer": "ipython3",
   "version": "3.7.4"
  }
 },
 "nbformat": 4,
 "nbformat_minor": 5
}
