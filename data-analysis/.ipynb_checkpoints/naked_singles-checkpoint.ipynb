{
 "cells": [
  {
   "cell_type": "code",
   "execution_count": 118,
   "id": "a76143b6",
   "metadata": {},
   "outputs": [],
   "source": [
    "# import custom functions\n",
    "from get_candidates import get_candidates\n",
    "from get_row_col import get_row_col\n",
    "from convert_to_binary import convert_to_binary\n",
    "from naked_for_how_long import naked_for_how_long\n",
    "\n",
    "# other functions we need\n",
    "from ast import literal_eval\n",
    "\n",
    "import pandas as pd\n",
    "import numpy as np"
   ]
  },
  {
   "cell_type": "code",
   "execution_count": 99,
   "id": "ce0d90c0",
   "metadata": {},
   "outputs": [],
   "source": [
    "# import SQL dependencies\n",
    "import sqlite3\n",
    "\n",
    "# connect to .db\n",
    "con = sqlite3.connect(\"../data-collection/nyt-sudoku.db\")\n",
    "cur = con.cursor()\n",
    "\n",
    "doks_perf = pd.read_sql(\"SELECT * from doks_performance;\",\n",
    "           con)\n",
    "\n",
    "doks_easy = pd.read_sql(\"SELECT * from doks_easy;\",\n",
    "           con)"
   ]
  },
  {
   "cell_type": "code",
   "execution_count": 100,
   "id": "358cda14",
   "metadata": {},
   "outputs": [],
   "source": [
    "# format doks_performance date to match doks_easy format\n",
    "doks_perf['date'] = pd.to_datetime(doks_perf['date'])\n",
    "\n",
    "# format date column in doks_easy\n",
    "doks_easy['date'] = pd.to_datetime(doks_easy['date'])\n",
    "\n",
    "# convert all string of lists to lists\n",
    "doks_perf['doks_order'] = doks_perf['doks_order'].apply(literal_eval)\n",
    "doks_perf['times'] = doks_perf['times'].apply(literal_eval)\n",
    "\n",
    "doks_easy['puzzle'] = doks_easy['puzzle'].apply(literal_eval)\n",
    "doks_easy['solution'] = doks_easy['solution'].apply(literal_eval)"
   ]
  },
  {
   "cell_type": "code",
   "execution_count": 101,
   "id": "c9d8cdf8",
   "metadata": {},
   "outputs": [],
   "source": [
    "merged = pd.merge(left=doks_perf,\n",
    "        right=doks_easy,\n",
    "        on='date',\n",
    "        how='left')"
   ]
  },
  {
   "cell_type": "code",
   "execution_count": 102,
   "id": "914bb903",
   "metadata": {},
   "outputs": [],
   "source": [
    "# drop those days for which we don't have original nyt data\n",
    "merged = merged.dropna()"
   ]
  },
  {
   "cell_type": "code",
   "execution_count": 103,
   "id": "196d8ecb",
   "metadata": {},
   "outputs": [],
   "source": [
    "# only keep the columns we need\n",
    "merged = merged[['date', 'puzzle', 'solution', 'doks_order', 'times']]"
   ]
  }
 ],
 "metadata": {
  "kernelspec": {
   "display_name": "Python 3 (ipykernel)",
   "language": "python",
   "name": "python3"
  },
  "language_info": {
   "codemirror_mode": {
    "name": "ipython",
    "version": 3
   },
   "file_extension": ".py",
   "mimetype": "text/x-python",
   "name": "python",
   "nbconvert_exporter": "python",
   "pygments_lexer": "ipython3",
   "version": "3.7.4"
  }
 },
 "nbformat": 4,
 "nbformat_minor": 5
}
