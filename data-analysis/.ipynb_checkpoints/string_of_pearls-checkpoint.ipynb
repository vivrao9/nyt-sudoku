{
 "cells": [
  {
   "cell_type": "code",
   "execution_count": 1,
   "id": "2fe00c90",
   "metadata": {},
   "outputs": [],
   "source": [
    "import pandas as pd\n",
    "import numpy as np\n",
    "import matplotlib.pyplot as plt\n",
    "\n",
    "# other functions we need\n",
    "from ast import literal_eval"
   ]
  },
  {
   "cell_type": "markdown",
   "id": "2b4d45ca",
   "metadata": {},
   "source": [
    "## String of pearls: index"
   ]
  },
  {
   "cell_type": "markdown",
   "id": "c01ac7fd",
   "metadata": {},
   "source": [
    "The output CSV contains an array of every cell index filled out. The rows are puzzles and the columns are cells filled out."
   ]
  },
  {
   "cell_type": "code",
   "execution_count": 130,
   "id": "fa7b6acb",
   "metadata": {},
   "outputs": [],
   "source": [
    "# import SQL dependencies\n",
    "import sqlite3\n",
    "\n",
    "# connect to .db\n",
    "con = sqlite3.connect(\"../data-collection/nyt-sudoku.db\")\n",
    "cur = con.cursor()\n",
    "\n",
    "doks_perf = pd.read_sql(\"SELECT * from doks_performance;\",\n",
    "           con)\n",
    "\n",
    "doks_easy = pd.read_sql(\"SELECT * from doks_easy;\",\n",
    "           con)"
   ]
  },
  {
   "cell_type": "code",
   "execution_count": 131,
   "id": "6397ab0f",
   "metadata": {},
   "outputs": [],
   "source": [
    "doks_order = pd.DataFrame(doks_perf['doks_order'])"
   ]
  },
  {
   "cell_type": "code",
   "execution_count": 132,
   "id": "36c32301",
   "metadata": {},
   "outputs": [],
   "source": [
    "doks_times = pd.DataFrame(doks_perf['times'])"
   ]
  },
  {
   "cell_type": "code",
   "execution_count": 133,
   "id": "7fecbaa7",
   "metadata": {},
   "outputs": [],
   "source": [
    "garland_data = pd.DataFrame(doks_order['doks_order'].apply(literal_eval).tolist())"
   ]
  },
  {
   "cell_type": "code",
   "execution_count": 5,
   "id": "5dce338b",
   "metadata": {},
   "outputs": [],
   "source": [
    "garland_data.to_csv('string_of_pearls_data.csv', index=False)"
   ]
  },
  {
   "cell_type": "markdown",
   "id": "28ef11ab",
   "metadata": {},
   "source": [
    "## String of pearls: section"
   ]
  },
  {
   "cell_type": "code",
   "execution_count": 6,
   "id": "d95385d8",
   "metadata": {},
   "outputs": [],
   "source": [
    "def get_sudoku_section(cell_index):\n",
    "    # Check if the index is within the valid range (0 to 80)\n",
    "    if cell_index < 0 or cell_index > 80:\n",
    "        raise ValueError(\"Invalid index. Cell index should be between 0 and 80.\")\n",
    "\n",
    "    # Calculate the row and column indices from the cell index\n",
    "    row_index = cell_index // 9\n",
    "    col_index = cell_index % 9\n",
    "\n",
    "    # Determine the section based on the row and column indices\n",
    "    section_row = row_index // 3\n",
    "    section_col = col_index // 3\n",
    "\n",
    "    # Calculate the section number\n",
    "    section_number = section_row * 3 + section_col\n",
    "\n",
    "    # Return the section number (zero-indexed)\n",
    "    return section_number"
   ]
  },
  {
   "cell_type": "code",
   "execution_count": 20,
   "id": "6a57b876",
   "metadata": {},
   "outputs": [],
   "source": [
    "garland_data__section = garland_data.applymap(get_sudoku_section)"
   ]
  },
  {
   "cell_type": "code",
   "execution_count": 85,
   "id": "f55eadfc",
   "metadata": {},
   "outputs": [
    {
     "data": {
      "text/html": [
       "<div>\n",
       "<style scoped>\n",
       "    .dataframe tbody tr th:only-of-type {\n",
       "        vertical-align: middle;\n",
       "    }\n",
       "\n",
       "    .dataframe tbody tr th {\n",
       "        vertical-align: top;\n",
       "    }\n",
       "\n",
       "    .dataframe thead th {\n",
       "        text-align: right;\n",
       "    }\n",
       "</style>\n",
       "<table border=\"1\" class=\"dataframe\">\n",
       "  <thead>\n",
       "    <tr style=\"text-align: right;\">\n",
       "      <th></th>\n",
       "      <th>0</th>\n",
       "      <th>1</th>\n",
       "      <th>2</th>\n",
       "      <th>3</th>\n",
       "      <th>4</th>\n",
       "      <th>5</th>\n",
       "      <th>6</th>\n",
       "      <th>7</th>\n",
       "      <th>8</th>\n",
       "      <th>9</th>\n",
       "      <th>...</th>\n",
       "      <th>49</th>\n",
       "      <th>50</th>\n",
       "      <th>51</th>\n",
       "      <th>52</th>\n",
       "      <th>53</th>\n",
       "      <th>54</th>\n",
       "      <th>55</th>\n",
       "      <th>56</th>\n",
       "      <th>57</th>\n",
       "      <th>58</th>\n",
       "    </tr>\n",
       "  </thead>\n",
       "  <tbody>\n",
       "    <tr>\n",
       "      <th>0</th>\n",
       "      <td>8</td>\n",
       "      <td>7</td>\n",
       "      <td>1</td>\n",
       "      <td>6</td>\n",
       "      <td>0</td>\n",
       "      <td>0</td>\n",
       "      <td>0</td>\n",
       "      <td>0</td>\n",
       "      <td>1</td>\n",
       "      <td>1</td>\n",
       "      <td>...</td>\n",
       "      <td>NaN</td>\n",
       "      <td>NaN</td>\n",
       "      <td>NaN</td>\n",
       "      <td>NaN</td>\n",
       "      <td>NaN</td>\n",
       "      <td>NaN</td>\n",
       "      <td>NaN</td>\n",
       "      <td>NaN</td>\n",
       "      <td>NaN</td>\n",
       "      <td>NaN</td>\n",
       "    </tr>\n",
       "    <tr>\n",
       "      <th>1</th>\n",
       "      <td>1</td>\n",
       "      <td>7</td>\n",
       "      <td>6</td>\n",
       "      <td>8</td>\n",
       "      <td>7</td>\n",
       "      <td>6</td>\n",
       "      <td>0</td>\n",
       "      <td>0</td>\n",
       "      <td>0</td>\n",
       "      <td>3</td>\n",
       "      <td>...</td>\n",
       "      <td>NaN</td>\n",
       "      <td>NaN</td>\n",
       "      <td>NaN</td>\n",
       "      <td>NaN</td>\n",
       "      <td>NaN</td>\n",
       "      <td>NaN</td>\n",
       "      <td>NaN</td>\n",
       "      <td>NaN</td>\n",
       "      <td>NaN</td>\n",
       "      <td>NaN</td>\n",
       "    </tr>\n",
       "    <tr>\n",
       "      <th>2</th>\n",
       "      <td>2</td>\n",
       "      <td>6</td>\n",
       "      <td>3</td>\n",
       "      <td>3</td>\n",
       "      <td>0</td>\n",
       "      <td>1</td>\n",
       "      <td>2</td>\n",
       "      <td>2</td>\n",
       "      <td>5</td>\n",
       "      <td>5</td>\n",
       "      <td>...</td>\n",
       "      <td>NaN</td>\n",
       "      <td>NaN</td>\n",
       "      <td>NaN</td>\n",
       "      <td>NaN</td>\n",
       "      <td>NaN</td>\n",
       "      <td>NaN</td>\n",
       "      <td>NaN</td>\n",
       "      <td>NaN</td>\n",
       "      <td>NaN</td>\n",
       "      <td>NaN</td>\n",
       "    </tr>\n",
       "    <tr>\n",
       "      <th>3</th>\n",
       "      <td>0</td>\n",
       "      <td>3</td>\n",
       "      <td>1</td>\n",
       "      <td>0</td>\n",
       "      <td>0</td>\n",
       "      <td>0</td>\n",
       "      <td>0</td>\n",
       "      <td>2</td>\n",
       "      <td>2</td>\n",
       "      <td>1</td>\n",
       "      <td>...</td>\n",
       "      <td>NaN</td>\n",
       "      <td>NaN</td>\n",
       "      <td>NaN</td>\n",
       "      <td>NaN</td>\n",
       "      <td>NaN</td>\n",
       "      <td>NaN</td>\n",
       "      <td>NaN</td>\n",
       "      <td>NaN</td>\n",
       "      <td>NaN</td>\n",
       "      <td>NaN</td>\n",
       "    </tr>\n",
       "    <tr>\n",
       "      <th>4</th>\n",
       "      <td>1</td>\n",
       "      <td>2</td>\n",
       "      <td>5</td>\n",
       "      <td>3</td>\n",
       "      <td>6</td>\n",
       "      <td>7</td>\n",
       "      <td>6</td>\n",
       "      <td>3</td>\n",
       "      <td>7</td>\n",
       "      <td>8</td>\n",
       "      <td>...</td>\n",
       "      <td>NaN</td>\n",
       "      <td>NaN</td>\n",
       "      <td>NaN</td>\n",
       "      <td>NaN</td>\n",
       "      <td>NaN</td>\n",
       "      <td>NaN</td>\n",
       "      <td>NaN</td>\n",
       "      <td>NaN</td>\n",
       "      <td>NaN</td>\n",
       "      <td>NaN</td>\n",
       "    </tr>\n",
       "    <tr>\n",
       "      <th>...</th>\n",
       "      <td>...</td>\n",
       "      <td>...</td>\n",
       "      <td>...</td>\n",
       "      <td>...</td>\n",
       "      <td>...</td>\n",
       "      <td>...</td>\n",
       "      <td>...</td>\n",
       "      <td>...</td>\n",
       "      <td>...</td>\n",
       "      <td>...</td>\n",
       "      <td>...</td>\n",
       "      <td>...</td>\n",
       "      <td>...</td>\n",
       "      <td>...</td>\n",
       "      <td>...</td>\n",
       "      <td>...</td>\n",
       "      <td>...</td>\n",
       "      <td>...</td>\n",
       "      <td>...</td>\n",
       "      <td>...</td>\n",
       "      <td>...</td>\n",
       "    </tr>\n",
       "    <tr>\n",
       "      <th>83</th>\n",
       "      <td>1</td>\n",
       "      <td>4</td>\n",
       "      <td>2</td>\n",
       "      <td>1</td>\n",
       "      <td>1</td>\n",
       "      <td>1</td>\n",
       "      <td>0</td>\n",
       "      <td>0</td>\n",
       "      <td>7</td>\n",
       "      <td>8</td>\n",
       "      <td>...</td>\n",
       "      <td>NaN</td>\n",
       "      <td>NaN</td>\n",
       "      <td>NaN</td>\n",
       "      <td>NaN</td>\n",
       "      <td>NaN</td>\n",
       "      <td>NaN</td>\n",
       "      <td>NaN</td>\n",
       "      <td>NaN</td>\n",
       "      <td>NaN</td>\n",
       "      <td>NaN</td>\n",
       "    </tr>\n",
       "    <tr>\n",
       "      <th>84</th>\n",
       "      <td>0</td>\n",
       "      <td>2</td>\n",
       "      <td>2</td>\n",
       "      <td>1</td>\n",
       "      <td>4</td>\n",
       "      <td>8</td>\n",
       "      <td>5</td>\n",
       "      <td>5</td>\n",
       "      <td>5</td>\n",
       "      <td>5</td>\n",
       "      <td>...</td>\n",
       "      <td>NaN</td>\n",
       "      <td>NaN</td>\n",
       "      <td>NaN</td>\n",
       "      <td>NaN</td>\n",
       "      <td>NaN</td>\n",
       "      <td>NaN</td>\n",
       "      <td>NaN</td>\n",
       "      <td>NaN</td>\n",
       "      <td>NaN</td>\n",
       "      <td>NaN</td>\n",
       "    </tr>\n",
       "    <tr>\n",
       "      <th>85</th>\n",
       "      <td>1</td>\n",
       "      <td>3</td>\n",
       "      <td>3</td>\n",
       "      <td>4</td>\n",
       "      <td>7</td>\n",
       "      <td>7</td>\n",
       "      <td>4</td>\n",
       "      <td>5</td>\n",
       "      <td>5</td>\n",
       "      <td>5</td>\n",
       "      <td>...</td>\n",
       "      <td>2.0</td>\n",
       "      <td>2.0</td>\n",
       "      <td>2.0</td>\n",
       "      <td>2.0</td>\n",
       "      <td>2.0</td>\n",
       "      <td>2.0</td>\n",
       "      <td>2.0</td>\n",
       "      <td>0.0</td>\n",
       "      <td>0.0</td>\n",
       "      <td>2.0</td>\n",
       "    </tr>\n",
       "    <tr>\n",
       "      <th>86</th>\n",
       "      <td>2</td>\n",
       "      <td>8</td>\n",
       "      <td>5</td>\n",
       "      <td>7</td>\n",
       "      <td>1</td>\n",
       "      <td>0</td>\n",
       "      <td>6</td>\n",
       "      <td>7</td>\n",
       "      <td>7</td>\n",
       "      <td>2</td>\n",
       "      <td>...</td>\n",
       "      <td>NaN</td>\n",
       "      <td>NaN</td>\n",
       "      <td>NaN</td>\n",
       "      <td>NaN</td>\n",
       "      <td>NaN</td>\n",
       "      <td>NaN</td>\n",
       "      <td>NaN</td>\n",
       "      <td>NaN</td>\n",
       "      <td>NaN</td>\n",
       "      <td>NaN</td>\n",
       "    </tr>\n",
       "    <tr>\n",
       "      <th>87</th>\n",
       "      <td>3</td>\n",
       "      <td>3</td>\n",
       "      <td>0</td>\n",
       "      <td>2</td>\n",
       "      <td>8</td>\n",
       "      <td>8</td>\n",
       "      <td>2</td>\n",
       "      <td>0</td>\n",
       "      <td>0</td>\n",
       "      <td>0</td>\n",
       "      <td>...</td>\n",
       "      <td>NaN</td>\n",
       "      <td>NaN</td>\n",
       "      <td>NaN</td>\n",
       "      <td>NaN</td>\n",
       "      <td>NaN</td>\n",
       "      <td>NaN</td>\n",
       "      <td>NaN</td>\n",
       "      <td>NaN</td>\n",
       "      <td>NaN</td>\n",
       "      <td>NaN</td>\n",
       "    </tr>\n",
       "  </tbody>\n",
       "</table>\n",
       "<p>88 rows × 59 columns</p>\n",
       "</div>"
      ],
      "text/plain": [
       "    0   1   2   3   4   5   6   7   8   9   ...   49   50   51   52   53   54  \\\n",
       "0    8   7   1   6   0   0   0   0   1   1  ...  NaN  NaN  NaN  NaN  NaN  NaN   \n",
       "1    1   7   6   8   7   6   0   0   0   3  ...  NaN  NaN  NaN  NaN  NaN  NaN   \n",
       "2    2   6   3   3   0   1   2   2   5   5  ...  NaN  NaN  NaN  NaN  NaN  NaN   \n",
       "3    0   3   1   0   0   0   0   2   2   1  ...  NaN  NaN  NaN  NaN  NaN  NaN   \n",
       "4    1   2   5   3   6   7   6   3   7   8  ...  NaN  NaN  NaN  NaN  NaN  NaN   \n",
       "..  ..  ..  ..  ..  ..  ..  ..  ..  ..  ..  ...  ...  ...  ...  ...  ...  ...   \n",
       "83   1   4   2   1   1   1   0   0   7   8  ...  NaN  NaN  NaN  NaN  NaN  NaN   \n",
       "84   0   2   2   1   4   8   5   5   5   5  ...  NaN  NaN  NaN  NaN  NaN  NaN   \n",
       "85   1   3   3   4   7   7   4   5   5   5  ...  2.0  2.0  2.0  2.0  2.0  2.0   \n",
       "86   2   8   5   7   1   0   6   7   7   2  ...  NaN  NaN  NaN  NaN  NaN  NaN   \n",
       "87   3   3   0   2   8   8   2   0   0   0  ...  NaN  NaN  NaN  NaN  NaN  NaN   \n",
       "\n",
       "     55   56   57   58  \n",
       "0   NaN  NaN  NaN  NaN  \n",
       "1   NaN  NaN  NaN  NaN  \n",
       "2   NaN  NaN  NaN  NaN  \n",
       "3   NaN  NaN  NaN  NaN  \n",
       "4   NaN  NaN  NaN  NaN  \n",
       "..  ...  ...  ...  ...  \n",
       "83  NaN  NaN  NaN  NaN  \n",
       "84  NaN  NaN  NaN  NaN  \n",
       "85  2.0  0.0  0.0  2.0  \n",
       "86  NaN  NaN  NaN  NaN  \n",
       "87  NaN  NaN  NaN  NaN  \n",
       "\n",
       "[88 rows x 59 columns]"
      ]
     },
     "execution_count": 85,
     "metadata": {},
     "output_type": "execute_result"
    }
   ],
   "source": [
    "garland_data__section"
   ]
  },
  {
   "cell_type": "code",
   "execution_count": 36,
   "id": "29c7a5f7",
   "metadata": {},
   "outputs": [],
   "source": [
    "from collections import Counter"
   ]
  },
  {
   "cell_type": "code",
   "execution_count": 93,
   "id": "3462f21e",
   "metadata": {},
   "outputs": [
    {
     "data": {
      "text/plain": [
       "(array([0, 1, 2, 3, 4, 5, 6, 7, 8], dtype=int64),\n",
       " array([22, 21, 21,  4,  6,  4,  3,  5,  2], dtype=int64))"
      ]
     },
     "execution_count": 93,
     "metadata": {},
     "output_type": "execute_result"
    }
   ],
   "source": [
    "# look for most common sections I start in\n",
    "np.unique(\n",
    "        # look at section values in the first n steps\n",
    "        garland_data__section.iloc[:,:1]\n",
    "\n",
    "        # convert to numpy so we can flatten\n",
    "        .to_numpy().flatten(),\n",
    "    \n",
    "    # built-in argument of np.unique\n",
    "    return_counts=True\n",
    ")"
   ]
  },
  {
   "cell_type": "code",
   "execution_count": 181,
   "id": "b3d488ce",
   "metadata": {},
   "outputs": [
    {
     "data": {
      "text/plain": [
       "(array([0, 1, 2, 3, 4, 5, 6, 7, 8], dtype=int64),\n",
       " array([55, 56, 63, 40, 44, 49, 50, 39, 44], dtype=int64))"
      ]
     },
     "execution_count": 181,
     "metadata": {},
     "output_type": "execute_result"
    }
   ],
   "source": [
    "np.unique(garland_data__section.iloc[:,:5].values, return_counts=True)"
   ]
  },
  {
   "cell_type": "code",
   "execution_count": 182,
   "id": "2b065ebd",
   "metadata": {},
   "outputs": [
    {
     "data": {
      "text/plain": [
       "(array([0, 1, 2, 3, 4, 5, 6, 7, 8], dtype=int64),\n",
       " array([50, 70, 49, 44, 43, 51, 45, 45, 43], dtype=int64))"
      ]
     },
     "execution_count": 182,
     "metadata": {},
     "output_type": "execute_result"
    }
   ],
   "source": [
    "np.unique(garland_data__section.iloc[:,5:10].values, return_counts=True)"
   ]
  },
  {
   "cell_type": "code",
   "execution_count": 183,
   "id": "fed9777a",
   "metadata": {},
   "outputs": [
    {
     "data": {
      "text/plain": [
       "(array([0, 1, 2, 3, 4, 5, 6, 7, 8], dtype=int64),\n",
       " array([65, 45, 52, 63, 49, 47, 42, 34, 43], dtype=int64))"
      ]
     },
     "execution_count": 183,
     "metadata": {},
     "output_type": "execute_result"
    }
   ],
   "source": [
    "np.unique(garland_data__section.iloc[:,10:15].values, return_counts=True)"
   ]
  },
  {
   "cell_type": "code",
   "execution_count": 184,
   "id": "1afe282b",
   "metadata": {},
   "outputs": [
    {
     "data": {
      "text/plain": [
       "(array([0, 1, 2, 3, 4, 5, 6, 7, 8], dtype=int64),\n",
       " array([69, 56, 70, 50, 42, 50, 41, 31, 31], dtype=int64))"
      ]
     },
     "execution_count": 184,
     "metadata": {},
     "output_type": "execute_result"
    }
   ],
   "source": [
    "np.unique(garland_data__section.iloc[:,15:20].values, return_counts=True)"
   ]
  },
  {
   "cell_type": "code",
   "execution_count": 185,
   "id": "180e4b1a",
   "metadata": {},
   "outputs": [
    {
     "data": {
      "text/plain": [
       "(array([0, 1, 2, 3, 4, 5, 6, 7, 8], dtype=int64),\n",
       " array([36, 49, 47, 64, 54, 52, 52, 36, 50], dtype=int64))"
      ]
     },
     "execution_count": 185,
     "metadata": {},
     "output_type": "execute_result"
    }
   ],
   "source": [
    "np.unique(garland_data__section.iloc[:,20:25].values, return_counts=True)"
   ]
  },
  {
   "cell_type": "code",
   "execution_count": 186,
   "id": "951e4e83",
   "metadata": {},
   "outputs": [
    {
     "data": {
      "text/plain": [
       "(array([0, 1, 2, 3, 4, 5, 6, 7, 8], dtype=int64),\n",
       " array([33, 30, 27, 62, 58, 64, 53, 63, 50], dtype=int64))"
      ]
     },
     "execution_count": 186,
     "metadata": {},
     "output_type": "execute_result"
    }
   ],
   "source": [
    "np.unique(garland_data__section.iloc[:,25:30].values, return_counts=True)"
   ]
  },
  {
   "cell_type": "code",
   "execution_count": 187,
   "id": "59c95f74",
   "metadata": {},
   "outputs": [
    {
     "data": {
      "text/plain": [
       "(array([0, 1, 2, 3, 4, 5, 6, 7, 8], dtype=int64),\n",
       " array([24, 28, 34, 57, 61, 41, 67, 67, 61], dtype=int64))"
      ]
     },
     "execution_count": 187,
     "metadata": {},
     "output_type": "execute_result"
    }
   ],
   "source": [
    "np.unique(garland_data__section.iloc[:,30:35].values, return_counts=True)"
   ]
  },
  {
   "cell_type": "code",
   "execution_count": 188,
   "id": "da16be93",
   "metadata": {},
   "outputs": [
    {
     "data": {
      "text/plain": [
       "(array([0, 1, 2, 3, 4, 5, 6, 7, 8], dtype=int64),\n",
       " array([26, 28, 30, 34, 50, 52, 45, 84, 91], dtype=int64))"
      ]
     },
     "execution_count": 188,
     "metadata": {},
     "output_type": "execute_result"
    }
   ],
   "source": [
    "np.unique(garland_data__section.iloc[:,35:40].values, return_counts=True)"
   ]
  },
  {
   "cell_type": "code",
   "execution_count": 189,
   "id": "2f09c1e1",
   "metadata": {},
   "outputs": [
    {
     "data": {
      "text/plain": [
       "(array([ 0.,  1.,  2.,  3.,  4.,  5.,  6.,  7.,  8., nan]),\n",
       " array([23, 28, 31, 25, 41, 34, 50, 71, 51, 86], dtype=int64))"
      ]
     },
     "execution_count": 189,
     "metadata": {},
     "output_type": "execute_result"
    }
   ],
   "source": [
    "np.unique(garland_data__section.iloc[:,40:45].values, return_counts=True)"
   ]
  },
  {
   "cell_type": "code",
   "execution_count": 190,
   "id": "056e5200",
   "metadata": {},
   "outputs": [
    {
     "data": {
      "text/plain": [
       "(array([ 0.,  1.,  2.,  3.,  4.,  5.,  6.,  7.,  8., nan]),\n",
       " array([  2,   6,   5,   1,   3,   7,   5,   9,   9, 393], dtype=int64))"
      ]
     },
     "execution_count": 190,
     "metadata": {},
     "output_type": "execute_result"
    }
   ],
   "source": [
    "np.unique(garland_data__section.iloc[:,45:50].values, return_counts=True)"
   ]
  },
  {
   "cell_type": "code",
   "execution_count": 168,
   "id": "c56f4546",
   "metadata": {},
   "outputs": [
    {
     "data": {
      "text/plain": [
       "Counter({5.0: 11,\n",
       "         6.0: 8,\n",
       "         7.0: 15,\n",
       "         4.0: 10,\n",
       "         3.0: 7,\n",
       "         8.0: 16,\n",
       "         1.0: 12,\n",
       "         0.0: 5,\n",
       "         2.0: 4})"
      ]
     },
     "execution_count": 168,
     "metadata": {},
     "output_type": "execute_result"
    }
   ],
   "source": [
    "# look for most common sections I end in\n",
    "Counter(\n",
    "    # pick the last value in every array\n",
    "    [x[~np.isnan(x)][-1]\n",
    "     for x in\n",
    "     garland_data__section.to_numpy()]\n",
    ")"
   ]
  },
  {
   "cell_type": "markdown",
   "id": "dd9a895d",
   "metadata": {},
   "source": [
    "## String of pearls: times"
   ]
  },
  {
   "cell_type": "code",
   "execution_count": 135,
   "id": "1cbd559e",
   "metadata": {},
   "outputs": [],
   "source": [
    "garland_times = pd.DataFrame(doks_perf['times'].apply(literal_eval).tolist())"
   ]
  },
  {
   "cell_type": "code",
   "execution_count": 136,
   "id": "a596ae80",
   "metadata": {},
   "outputs": [],
   "source": [
    "garland_times.to_csv('string_of_pearls_times_data.csv', index=False)"
   ]
  }
 ],
 "metadata": {
  "kernelspec": {
   "display_name": "Python 3 (ipykernel)",
   "language": "python",
   "name": "python3"
  },
  "language_info": {
   "codemirror_mode": {
    "name": "ipython",
    "version": 3
   },
   "file_extension": ".py",
   "mimetype": "text/x-python",
   "name": "python",
   "nbconvert_exporter": "python",
   "pygments_lexer": "ipython3",
   "version": "3.7.4"
  }
 },
 "nbformat": 4,
 "nbformat_minor": 5
}
