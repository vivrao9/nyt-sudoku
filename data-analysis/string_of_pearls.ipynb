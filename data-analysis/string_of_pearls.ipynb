{
 "cells": [
  {
   "cell_type": "code",
   "execution_count": 19,
   "id": "2fe00c90",
   "metadata": {},
   "outputs": [],
   "source": [
    "import pandas as pd\n",
    "import numpy as np\n",
    "import matplotlib.pyplot as plt\n",
    "\n",
    "# other functions we need\n",
    "from ast import literal_eval"
   ]
  },
  {
   "cell_type": "code",
   "execution_count": 20,
   "id": "fa7b6acb",
   "metadata": {},
   "outputs": [],
   "source": [
    "# import SQL dependencies\n",
    "import sqlite3\n",
    "\n",
    "# connect to .db\n",
    "con = sqlite3.connect(\"../data-collection/nyt-sudoku.db\")\n",
    "cur = con.cursor()\n",
    "\n",
    "doks_perf = pd.read_sql(\"SELECT * from doks_performance;\",\n",
    "           con)\n",
    "\n",
    "doks_easy = pd.read_sql(\"SELECT * from doks_easy;\",\n",
    "           con)"
   ]
  },
  {
   "cell_type": "code",
   "execution_count": 21,
   "id": "6397ab0f",
   "metadata": {},
   "outputs": [],
   "source": [
    "doks_perf = pd.DataFrame(doks_perf['doks_order'])"
   ]
  },
  {
   "cell_type": "code",
   "execution_count": 22,
   "id": "7fecbaa7",
   "metadata": {},
   "outputs": [],
   "source": [
    "garland_data = pd.DataFrame(doks_perf['doks_order'].apply(literal_eval).tolist())"
   ]
  },
  {
   "cell_type": "code",
   "execution_count": 27,
   "id": "5dce338b",
   "metadata": {},
   "outputs": [],
   "source": [
    "garland_data.to_csv('string_of_pearls_data.csv', index=False)"
   ]
  }
 ],
 "metadata": {
  "kernelspec": {
   "display_name": "Python 3 (ipykernel)",
   "language": "python",
   "name": "python3"
  },
  "language_info": {
   "codemirror_mode": {
    "name": "ipython",
    "version": 3
   },
   "file_extension": ".py",
   "mimetype": "text/x-python",
   "name": "python",
   "nbconvert_exporter": "python",
   "pygments_lexer": "ipython3",
   "version": "3.7.4"
  }
 },
 "nbformat": 4,
 "nbformat_minor": 5
}
