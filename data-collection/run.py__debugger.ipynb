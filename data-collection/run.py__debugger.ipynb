{
 "cells": [
  {
   "cell_type": "code",
   "execution_count": 1,
   "id": "a8334baa",
   "metadata": {},
   "outputs": [],
   "source": [
    "import requests, json, pandas as pd, sqlite3, datetime\n",
    "from bs4 import BeautifulSoup\n",
    "from traceback import format_exc\n",
    "from sqlalchemy.types import Integer, String"
   ]
  },
  {
   "cell_type": "code",
   "execution_count": 12,
   "id": "74128a68",
   "metadata": {},
   "outputs": [],
   "source": [
    "web = requests.get(\"https://www.nytimes.com/puzzles/sudoku/easy\")\n",
    "soup = BeautifulSoup(web.text, 'html.parser')\n",
    "data  = soup.find_all(\"script\")[2].string\n",
    "data = data[(data.index('= ')+2):]"
   ]
  },
  {
   "cell_type": "code",
   "execution_count": 14,
   "id": "11084430",
   "metadata": {},
   "outputs": [],
   "source": [
    "# convert to json\n",
    "df = json.loads(data)"
   ]
  },
  {
   "cell_type": "code",
   "execution_count": null,
   "id": "cce3460e",
   "metadata": {},
   "outputs": [],
   "source": [
    "# make connection to sqlite3\n",
    "conn = sqlite3.connect('data-collection/nyt-sudoku.db')\n",
    "cursor = conn.cursor()"
   ]
  },
  {
   "cell_type": "code",
   "execution_count": null,
   "id": "e792cb7c",
   "metadata": {},
   "outputs": [],
   "source": [
    "# define table columns\n",
    "tbl_cols = ['date', 'day_of_week', 'puzzle_id', 'hint', 'puzzle', 'solution']\n",
    "tbl_schema = {\n",
    "\t\"date\": String(),\n",
    "\t\"day_of_week\": String(),\n",
    "\t\"puzzle_id\": Integer(),\n",
    "\t\"hint\": String(),\n",
    "\t\"puzzle\": String(),\n",
    "\t\"solution\": String()\n",
    "}"
   ]
  },
  {
   "cell_type": "code",
   "execution_count": null,
   "id": "00ce694c",
   "metadata": {},
   "outputs": [],
   "source": [
    "# print out today's date\n",
    "print('\\n\\n')\n",
    "print(str(datetime.date.today()))\n",
    "print('\\n')"
   ]
  },
  {
   "cell_type": "code",
   "execution_count": null,
   "id": "642d2cae",
   "metadata": {},
   "outputs": [],
   "source": [
    "# df_easy\n",
    "try:\n",
    "\t# create temp dataframe from easy data\n",
    "\teasy_temp = pd.DataFrame([str(df['easy']['print_date']), str(df['easy']['day_of_week']), str(df['easy']['puzzle_id']), str(df['easy']['puzzle_data']['hints']), str(df['easy']['puzzle_data']['puzzle']), str(df['easy']['puzzle_data']['solution'])]).T\n",
    "\t# easy_temp.to_csv('~/Desktop/nyt-sudoku/data-collection/easy.csv', mode='a', header=False, index = False)\n",
    "\teasy_temp.columns = tbl_cols\n",
    "\teasy_temp.to_sql(name='doks_easy', con=conn, if_exists='append', index=False)\n",
    "\n",
    "except:\n",
    "\tprint(format_exc())\n",
    "\n",
    "\n",
    "# df_medium\n",
    "try:\n",
    "\tmedium_temp = pd.DataFrame([str(df['medium']['print_date']), str(df['medium']['day_of_week']), str(df['medium']['puzzle_id']), str(df['medium']['puzzle_data']['hints']), str(df['medium']['puzzle_data']['puzzle']), str(df['medium']['puzzle_data']['solution'])]).T\n",
    "\t# medium_temp.to_csv('~/Desktop/nyt-sudoku/data-collection/medium.csv', mode='a', header=False, index = False)\n",
    "\tmedium_temp.columns = tbl_cols\n",
    "\tmedium_temp.to_sql(name='doks_medium', con=conn, if_exists='append', index=False)\n",
    "\n",
    "except:\n",
    "\tprint(format_exc())\n",
    "\n",
    "\n",
    "# df_hard\n",
    "try:\n",
    "\thard_temp = pd.DataFrame([str(df['hard']['print_date']), str(df['hard']['day_of_week']), str(df['hard']['puzzle_id']), str(df['hard']['puzzle_data']['hints']), str(df['hard']['puzzle_data']['puzzle']), str(df['hard']['puzzle_data']['solution'])]).T\n",
    "\t# hard_temp.to_csv('~/Desktop/nyt-sudoku/data-collection/hard.csv', mode='a', header=False, index = False)\n",
    "\thard_temp.columns = tbl_cols\n",
    "\thard_temp.to_sql(name='doks_hard', con=conn, if_exists='append', index=False)\n",
    "\n",
    "except:\n",
    "\tprint(format_exc())\n",
    "\n",
    "print('------------------------------------------------')"
   ]
  }
 ],
 "metadata": {
  "kernelspec": {
   "display_name": "Python 3 (ipykernel)",
   "language": "python",
   "name": "python3"
  },
  "language_info": {
   "codemirror_mode": {
    "name": "ipython",
    "version": 3
   },
   "file_extension": ".py",
   "mimetype": "text/x-python",
   "name": "python",
   "nbconvert_exporter": "python",
   "pygments_lexer": "ipython3",
   "version": "3.7.4"
  }
 },
 "nbformat": 4,
 "nbformat_minor": 5
}
